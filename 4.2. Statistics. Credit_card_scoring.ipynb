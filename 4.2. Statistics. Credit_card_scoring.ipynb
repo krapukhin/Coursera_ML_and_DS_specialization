{
 "cells": [
  {
   "cell_type": "markdown",
   "metadata": {},
   "source": [
    "# Анализ данных в задаче кредитного скоринга\n",
    "Для выполнения этого задания вам понадобятся данные о кредитных историях клиентов одного из банков. Поля в предоставляемых данных имеют следующий смысл:\n",
    "\n",
    "* LIMIT_BAL: размер кредитного лимита (в том числе и на семью клиента)\n",
    "* SEX: пол клиента (1 = мужской, 2 = женский )\n",
    "* EDUCATION: образование (0 = доктор, 1 = магистр; 2 = бакалавр; 3 = выпускник школы; 4 = начальное образование; 5= прочее; 6 = нет данных ).\n",
    "* MARRIAGE: (0 = отказываюсь отвечать; 1 = замужем/женат; 2 = холост; 3 = нет данных).\n",
    "* AGE: возраст в годах\n",
    "* PAY_0 - PAY_6 : История прошлых платежей по кредиту. PAY_6 - платеж в апреле, ... Pay_0 - платеж в сентябре. * Платеж = (0 = исправный платеж, 1=задержка в один месяц, 2=задержка в 2 месяца ...)\n",
    "* BILL_AMT1 - BILL_AMT6: задолженность, BILL_AMT6 - на апрель, BILL_AMT1 - на сентябрь\n",
    "* PAY_AMT1 - PAY_AMT6: сумма уплаченная в PAY_AMT6 - апреле, ..., PAY_AMT1 - сентябре\n",
    "* default - индикатор невозврата денежных средств\n",
    "\n",
    "## Задание\n",
    "\n",
    "### 1. Размер кредитного лимита (LIMIT_BAL). В двух группах, тех людей, кто вернул кредит (default = 0) и тех, кто его не вернул (default = 1) проверьте гипотезы: \n",
    "#### a) Гипотеза о равенстве медианных значений кредитного лимита с помощью подходящей интервальной оценки "
   ]
  },
  {
   "cell_type": "code",
   "execution_count": 1,
   "metadata": {},
   "outputs": [
    {
     "output_type": "execute_result",
     "data": {
      "text/plain": [
       "    LIMIT_BAL  SEX  EDUCATION  MARRIAGE  AGE  PAY_0  PAY_2  PAY_3  PAY_4  \\\n",
       "ID                                                                         \n",
       "1       20000    2          2         1   24      2      2      0      0   \n",
       "2      120000    2          2         2   26      0      2      0      0   \n",
       "3       90000    2          2         2   34      0      0      0      0   \n",
       "\n",
       "    PAY_5  ...  BILL_AMT4  BILL_AMT5  BILL_AMT6  PAY_AMT1  PAY_AMT2  PAY_AMT3  \\\n",
       "ID         ...                                                                  \n",
       "1       0  ...          0          0          0         0       689         0   \n",
       "2       0  ...       3272       3455       3261         0      1000      1000   \n",
       "3       0  ...      14331      14948      15549      1518      1500      1000   \n",
       "\n",
       "    PAY_AMT4  PAY_AMT5  PAY_AMT6  default  \n",
       "ID                                         \n",
       "1          0         0         0        1  \n",
       "2       1000         0      2000        1  \n",
       "3       1000      1000      5000        0  \n",
       "\n",
       "[3 rows x 24 columns]"
      ],
      "text/html": "<div>\n<style scoped>\n    .dataframe tbody tr th:only-of-type {\n        vertical-align: middle;\n    }\n\n    .dataframe tbody tr th {\n        vertical-align: top;\n    }\n\n    .dataframe thead th {\n        text-align: right;\n    }\n</style>\n<table border=\"1\" class=\"dataframe\">\n  <thead>\n    <tr style=\"text-align: right;\">\n      <th></th>\n      <th>LIMIT_BAL</th>\n      <th>SEX</th>\n      <th>EDUCATION</th>\n      <th>MARRIAGE</th>\n      <th>AGE</th>\n      <th>PAY_0</th>\n      <th>PAY_2</th>\n      <th>PAY_3</th>\n      <th>PAY_4</th>\n      <th>PAY_5</th>\n      <th>...</th>\n      <th>BILL_AMT4</th>\n      <th>BILL_AMT5</th>\n      <th>BILL_AMT6</th>\n      <th>PAY_AMT1</th>\n      <th>PAY_AMT2</th>\n      <th>PAY_AMT3</th>\n      <th>PAY_AMT4</th>\n      <th>PAY_AMT5</th>\n      <th>PAY_AMT6</th>\n      <th>default</th>\n    </tr>\n    <tr>\n      <th>ID</th>\n      <th></th>\n      <th></th>\n      <th></th>\n      <th></th>\n      <th></th>\n      <th></th>\n      <th></th>\n      <th></th>\n      <th></th>\n      <th></th>\n      <th></th>\n      <th></th>\n      <th></th>\n      <th></th>\n      <th></th>\n      <th></th>\n      <th></th>\n      <th></th>\n      <th></th>\n      <th></th>\n      <th></th>\n    </tr>\n  </thead>\n  <tbody>\n    <tr>\n      <th>1</th>\n      <td>20000</td>\n      <td>2</td>\n      <td>2</td>\n      <td>1</td>\n      <td>24</td>\n      <td>2</td>\n      <td>2</td>\n      <td>0</td>\n      <td>0</td>\n      <td>0</td>\n      <td>...</td>\n      <td>0</td>\n      <td>0</td>\n      <td>0</td>\n      <td>0</td>\n      <td>689</td>\n      <td>0</td>\n      <td>0</td>\n      <td>0</td>\n      <td>0</td>\n      <td>1</td>\n    </tr>\n    <tr>\n      <th>2</th>\n      <td>120000</td>\n      <td>2</td>\n      <td>2</td>\n      <td>2</td>\n      <td>26</td>\n      <td>0</td>\n      <td>2</td>\n      <td>0</td>\n      <td>0</td>\n      <td>0</td>\n      <td>...</td>\n      <td>3272</td>\n      <td>3455</td>\n      <td>3261</td>\n      <td>0</td>\n      <td>1000</td>\n      <td>1000</td>\n      <td>1000</td>\n      <td>0</td>\n      <td>2000</td>\n      <td>1</td>\n    </tr>\n    <tr>\n      <th>3</th>\n      <td>90000</td>\n      <td>2</td>\n      <td>2</td>\n      <td>2</td>\n      <td>34</td>\n      <td>0</td>\n      <td>0</td>\n      <td>0</td>\n      <td>0</td>\n      <td>0</td>\n      <td>...</td>\n      <td>14331</td>\n      <td>14948</td>\n      <td>15549</td>\n      <td>1518</td>\n      <td>1500</td>\n      <td>1000</td>\n      <td>1000</td>\n      <td>1000</td>\n      <td>5000</td>\n      <td>0</td>\n    </tr>\n  </tbody>\n</table>\n<p>3 rows × 24 columns</p>\n</div>"
     },
     "metadata": {},
     "execution_count": 1
    }
   ],
   "source": [
    "import pandas as pd\n",
    "import numpy as np\n",
    "%config InlineBackend.figure_format='retina'\n",
    "\n",
    "df_raw = pd.read_csv('data/credit_card_default_analysis.csv',index_col='ID')\n",
    "df = df_raw.copy()\n",
    "df.head(3)"
   ]
  },
  {
   "cell_type": "code",
   "execution_count": 2,
   "metadata": {},
   "outputs": [
    {
     "output_type": "stream",
     "name": "stdout",
     "text": [
      "Медиана кредитного лимита у вернувших кредит: 150000.0\nМедиана кредитного лимита у невернувших кредит: 90000.0\n"
     ]
    }
   ],
   "source": [
    "vernuli = df[df['default'] == 0].loc[:,'LIMIT_BAL']\n",
    "nevernuli = df[df['default'] == 1].loc[:,'LIMIT_BAL']\n",
    "print('Медиана кредитного лимита у вернувших кредит:',vernuli.median())\n",
    "print('Медиана кредитного лимита у невернувших кредит:',nevernuli.median())"
   ]
  },
  {
   "cell_type": "markdown",
   "metadata": {},
   "source": [
    "##### Воспользуемся интервальной оценкой разности медиан при помощи бутстрепа"
   ]
  },
  {
   "cell_type": "code",
   "execution_count": 3,
   "metadata": {},
   "outputs": [],
   "source": [
    "def get_bootstrap_samples(data, n_samples):\n",
    "    indices = np.random.randint(0, len(data), (n_samples, len(data)))\n",
    "    samples = data[indices]\n",
    "    return (samples)\n",
    "\n",
    "a_samples = get_bootstrap_samples(vernuli.values,1000)\n",
    "b_samples = get_bootstrap_samples(nevernuli.values,1000)\n",
    "\n",
    "a_samples_med = np.median(a_samples,axis=1)\n",
    "b_samples_med = np.median(b_samples,axis=1)"
   ]
  },
  {
   "cell_type": "code",
   "execution_count": 4,
   "metadata": {},
   "outputs": [
    {
     "output_type": "stream",
     "name": "stdout",
     "text": [
      "Доверительный интервал разности медиан: [60000. 70000.]\n"
     ]
    }
   ],
   "source": [
    "# Функция расчета 95% доверительного интервала\n",
    "def stat_intervals(stat, alpha):\n",
    "    boundaries = np.percentile(stat, [100 * alpha / 2., 100 * (1 - alpha / 2.)])\n",
    "    return (boundaries)\n",
    "\n",
    "print('Доверительный интервал разности медиан:',stat_intervals((a_samples_med - b_samples_med), 0.05))"
   ]
  },
  {
   "cell_type": "markdown",
   "metadata": {},
   "source": [
    "Разность медиан не содержит 0, т.е. интервалы для медиан лимитов отличаются. Гипотезу о равенстве медиан можно отвергнуть."
   ]
  },
  {
   "cell_type": "markdown",
   "metadata": {},
   "source": [
    "#### b) Гипотеза о равенстве распределений с помощью одного из подходящих непараметрических критериев проверки равенства средних. Значимы ли полученные результаты с практической точки зрения ?  "
   ]
  },
  {
   "cell_type": "code",
   "execution_count": 5,
   "metadata": {},
   "outputs": [
    {
     "output_type": "stream",
     "name": "stdout",
     "text": [
      "p-value: 0.0002\n"
     ]
    }
   ],
   "source": [
    "# Используем Перестановочный критерий для независимых выборок\n",
    "def permutation_test(sample, mean, max_permutations = None, alternative = 'two-sided'):\n",
    "    if alternative not in ('two-sided', 'less', 'greater'):\n",
    "        raise ValueError(\"alternative not recognized\\n\"\n",
    "                         \"should be 'two-sided', 'less' or 'greater'\")\n",
    "    \n",
    "    t_stat = permutation_t_stat_ind(sample, mean)\n",
    "    \n",
    "    zero_distr = permutation_zero_dist_ind(sample, mean, max_permutations)\n",
    "    \n",
    "    if alternative == 'two-sided':\n",
    "        return sum([1. if abs(x) >= abs(t_stat) else 0. for x in zero_distr]) / len(zero_distr)\n",
    "    \n",
    "    if alternative == 'less':\n",
    "        return sum([1. if x <= t_stat else 0. for x in zero_distr]) / len(zero_distr)\n",
    "\n",
    "    if alternative == 'greater':\n",
    "        return sum([1. if x >= t_stat else 0. for x in zero_distr]) / len(zero_distr)\n",
    "\n",
    "def permutation_zero_dist_ind(sample1, sample2, max_combinations = None):\n",
    "    joined_sample = np.hstack((sample1, sample2))\n",
    "    n1 = len(sample1)\n",
    "    n = len(joined_sample)\n",
    "    \n",
    "    if max_combinations:\n",
    "        indices = get_random_combinations(n1, len(sample2), max_combinations)\n",
    "    else:\n",
    "        indices = [(list(index), filter(lambda i: i not in index, range(n))) \\\n",
    "                    for index in itertools.combinations(range(n), n1)]\n",
    "    \n",
    "    distr = [joined_sample[list(i[0])].mean() - joined_sample[list(i[1])].mean() \\\n",
    "             for i in indices]\n",
    "    return distr\n",
    "    \n",
    "def get_random_combinations(n1, n2, max_combinations):\n",
    "    index = list(range(n1 + n2))\n",
    "    indices = set([tuple(index)])\n",
    "    for i in range(max_combinations - 1):\n",
    "        np.random.shuffle(index)\n",
    "        indices.add(tuple(index))\n",
    "    return [(index[:n1], index[n1:]) for index in indices]\n",
    "\n",
    "def permutation_t_stat_ind(sample1, sample2):\n",
    "    return np.mean(sample1) - np.mean(sample2)\n",
    "\n",
    "print('p-value:',permutation_test(nevernuli,vernuli,5000))"
   ]
  },
  {
   "cell_type": "markdown",
   "metadata": {},
   "source": [
    "p-value мало. Гипотеза о равенстве распределений отвергается.\n",
    "\n",
    "С практической точки зрения можно сказать, что признак LIMIT_BAL значим."
   ]
  },
  {
   "cell_type": "markdown",
   "metadata": {},
   "source": [
    "### 2. Пол (SEX): Проверьте гипотезу о том, что гендерный состав группы людей вернувших и не вернувших кредит отличается. Хорошо, если вы предоставите несколько различных решений этой задачи (с помощью доверительного интервала и подходящего статистического критерия)  "
   ]
  },
  {
   "cell_type": "markdown",
   "metadata": {},
   "source": [
    "__а) Решение с помощью доверительного интервала__\n",
    "\n",
    "\n",
    "   | $X_1$ | $X_2$  \n",
    "  ------------- | -------------|\n",
    "  1  | a | b \n",
    "  0  | c | d \n",
    "  $\\sum$ | $n_1$| $n_2$\n",
    "  \n",
    "$$ \\hat{p}_1 = \\frac{a}{n_1}$$\n",
    "\n",
    "$$ \\hat{p}_2 = \\frac{b}{n_2}$$\n",
    "\n",
    "\n",
    "$$\\text{Доверительный интервал для }p_1 - p_2\\colon \\;\\; \\hat{p}_1 - \\hat{p}_2 \\pm z_{1-\\frac{\\alpha}{2}}\\sqrt{\\frac{\\hat{p}_1(1 - \\hat{p}_1)}{n_1} + \\frac{\\hat{p}_2(1 - \\hat{p}_2)}{n_2}}$$"
   ]
  },
  {
   "cell_type": "code",
   "execution_count": 6,
   "metadata": {},
   "outputs": [],
   "source": [
    "vernuli_sex = df[df['default'] == 0]['SEX']-1\n",
    "nevernuli_sex = df[df['default'] == 1]['SEX']-1"
   ]
  },
  {
   "cell_type": "code",
   "execution_count": 7,
   "metadata": {},
   "outputs": [
    {
     "output_type": "display_data",
     "data": {
      "text/plain": "<Figure size 640x480 with 1 Axes>"
     },
     "metadata": {}
    }
   ],
   "source": [
    "import matplotlib.pyplot as plt\n",
    "plt.hist(vernuli_sex, label='vernuli')\n",
    "plt.hist(nevernuli_sex,label='nevernuli')\n",
    "plt.xlabel('gender')\n",
    "plt.ylabel('Count')\n",
    "plt.legend()\n",
    "plt.show()"
   ]
  },
  {
   "cell_type": "code",
   "execution_count": 8,
   "metadata": {},
   "outputs": [
    {
     "output_type": "stream",
     "name": "stdout",
     "text": [
      "Доверительный интервал разности долей: (0.03363493274962867, 0.060548077974896725)\n"
     ]
    }
   ],
   "source": [
    "# Доверительный интервал для разности долей независимых выборок\n",
    "import scipy.stats\n",
    "def proportions_confint_diff_ind(sample1, sample2, alpha = 0.05):    \n",
    "    z = scipy.stats.norm.ppf(1 - alpha / 2.)   \n",
    "    p1 = float(sum(sample1)) / len(sample1)\n",
    "    p2 = float(sum(sample2)) / len(sample2)\n",
    "    \n",
    "    left_boundary = (p1 - p2) - z * np.sqrt(p1 * (1 - p1)/ len(sample1) + p2 * (1 - p2)/ len(sample2))\n",
    "    right_boundary = (p1 - p2) + z * np.sqrt(p1 * (1 - p1)/ len(sample1) + p2 * (1 - p2)/ len(sample2))\n",
    "    \n",
    "    return (left_boundary, right_boundary)\n",
    "print('Доверительный интервал разности долей:',proportions_confint_diff_ind(vernuli_sex, nevernuli_sex))"
   ]
  },
  {
   "cell_type": "markdown",
   "metadata": {},
   "source": [
    "В доверительный интервал 0 не входит, следовательно гендерный состав группы людей вернувших и не вернувших кредит отличается. "
   ]
  },
  {
   "cell_type": "markdown",
   "metadata": {},
   "source": [
    "__б) Решение с помощью статистического критерия (z-критерий)__"
   ]
  },
  {
   "cell_type": "code",
   "execution_count": 9,
   "metadata": {},
   "outputs": [
    {
     "output_type": "stream",
     "name": "stdout",
     "text": [
      "p_value: 4.472866521609831e-12\n"
     ]
    }
   ],
   "source": [
    "def proportions_diff_z_stat_ind(sample1, sample2):\n",
    "    n1 = len(sample1)\n",
    "    n2 = len(sample2)\n",
    "    \n",
    "    p1 = float(sum(sample1)) / n1\n",
    "    p2 = float(sum(sample2)) / n2 \n",
    "    P = float(p1*n1 + p2*n2) / (n1 + n2)\n",
    "    \n",
    "    return (p1 - p2) / np.sqrt(P * (1 - P) * (1. / n1 + 1. / n2))\n",
    "\n",
    "def proportions_diff_z_test(z_stat, alternative = 'two-sided'):\n",
    "    if alternative not in ('two-sided', 'less', 'greater'):\n",
    "        raise ValueError(\"alternative not recognized should be 'two-sided', 'less' or 'greater'\")\n",
    "    if alternative == 'two-sided':\n",
    "        return 2 * (1 - scipy.stats.norm.cdf(np.abs(z_stat)))\n",
    "    if alternative == 'less':\n",
    "        return scipy.stats.norm.cdf(z_stat)\n",
    "    if alternative == 'greater':\n",
    "        return 1 - scipy.stats.norm.cdf(z_stat)\n",
    "\n",
    "z_stat = proportions_diff_z_stat_ind(vernuli_sex, nevernuli_sex)\n",
    "p_value=proportions_diff_z_test(z_stat,\"two-sided\")\n",
    "print('p_value:', p_value)"
   ]
  },
  {
   "cell_type": "markdown",
   "metadata": {},
   "source": [
    "Так как p-value < 0.05, можно отвергнуть гипотезу о том, что гендерный состав группы людей вернувших и не вернувших кредит одинаков. Среди не вернувших кредит больше мужчин."
   ]
  },
  {
   "cell_type": "markdown",
   "metadata": {},
   "source": [
    "### 3. Образование (EDUCATION): Проверьте гипотезу о том, что образование не влияет на то, вернет ли человек долг. Предложите способ наглядного представления разницы в ожидаемых и наблюдаемых значениях количества человек вернувших и не вернувших долг. Например, составьте таблицу сопряженности \"образование\" на \"возврат долга\", где значением ячейки была бы разность между наблюдаемым и ожидаемым количеством человек. Как бы вы предложили модифицировать таблицу так, чтобы привести значения ячеек к одному масштабу не потеряв в интерпретируемости ? Наличие какого образования является наилучшим индикатором того, что человек отдаст долг ? наоборот, не отдаст долг ?  "
   ]
  },
  {
   "cell_type": "code",
   "execution_count": 10,
   "metadata": {},
   "outputs": [
    {
     "output_type": "display_data",
     "data": {
      "text/plain": "<Figure size 432x288 with 1 Axes>",
      "image/png": "[encoded data removed]"
     },
     "metadata": {}
    }
   ],
   "source": [
    "vernuli_ed = df[df['default'] == 0]['EDUCATION']\n",
    "nevernuli_ed = df[df['default'] == 1]['EDUCATION']\n",
    "\n",
    "plt.hist(vernuli_ed, label='Vernuli')\n",
    "plt.hist(nevernuli_ed, label='Nevernuli')\n",
    "plt.xlabel('Education')\n",
    "plt.ylabel('Count')\n",
    "plt.legend()\n",
    "plt.show()"
   ]
  },
  {
   "cell_type": "code",
   "execution_count": 11,
   "metadata": {},
   "outputs": [
    {
     "output_type": "execute_result",
     "data": {
      "text/plain": [
       "EDUCATION   0     1      2     3    4    5   6\n",
       "default                                       \n",
       "Vernuli    14  8549  10700  3680  116  262  43\n",
       "Nevernuli   0  2036   3330  1237    7   18   8"
      ],
      "text/html": "<div>\n<style scoped>\n    .dataframe tbody tr th:only-of-type {\n        vertical-align: middle;\n    }\n\n    .dataframe tbody tr th {\n        vertical-align: top;\n    }\n\n    .dataframe thead th {\n        text-align: right;\n    }\n</style>\n<table border=\"1\" class=\"dataframe\">\n  <thead>\n    <tr style=\"text-align: right;\">\n      <th>EDUCATION</th>\n      <th>0</th>\n      <th>1</th>\n      <th>2</th>\n      <th>3</th>\n      <th>4</th>\n      <th>5</th>\n      <th>6</th>\n    </tr>\n    <tr>\n      <th>default</th>\n      <th></th>\n      <th></th>\n      <th></th>\n      <th></th>\n      <th></th>\n      <th></th>\n      <th></th>\n    </tr>\n  </thead>\n  <tbody>\n    <tr>\n      <th>Vernuli</th>\n      <td>14</td>\n      <td>8549</td>\n      <td>10700</td>\n      <td>3680</td>\n      <td>116</td>\n      <td>262</td>\n      <td>43</td>\n    </tr>\n    <tr>\n      <th>Nevernuli</th>\n      <td>0</td>\n      <td>2036</td>\n      <td>3330</td>\n      <td>1237</td>\n      <td>7</td>\n      <td>18</td>\n      <td>8</td>\n    </tr>\n  </tbody>\n</table>\n</div>"
     },
     "metadata": {},
     "execution_count": 11
    }
   ],
   "source": [
    "table_edu = pd.DataFrame(pd.crosstab(df['default'], df['EDUCATION'])).rename(index={0:'Vernuli', 1:'Nevernuli'})\n",
    "table_edu"
   ]
  },
  {
   "cell_type": "code",
   "execution_count": 12,
   "metadata": {},
   "outputs": [
    {
     "output_type": "stream",
     "name": "stdout",
     "text": [
      "Количество объектов в таблице сопряженности: 30000\nДоля элементов в таблице < 5: 0.07142857142857142\n"
     ]
    }
   ],
   "source": [
    "# Проверка применимости критерия хи-квадрат:количество объектов в таблице сопряженности более 40 и\n",
    "# доля элементов в таблице < 5 не более 20% \n",
    "print('Количество объектов в таблице сопряженности:',table_edu.sum().sum()) # \n",
    "print('Доля элементов в таблице < 5:',(table_edu<5).sum().sum()/table_edu.count().sum()) "
   ]
  },
  {
   "cell_type": "code",
   "execution_count": 13,
   "metadata": {},
   "outputs": [
    {
     "output_type": "stream",
     "name": "stdout",
     "text": [
      "p-value: 1.2332626245415605e-32\nОжидаемые частоты: [[1.0903200e+01 8.2435980e+03 1.0926564e+04 3.8293596e+03 9.5792400e+01\n  2.1806400e+02 3.9718800e+01]\n [3.0968000e+00 2.3414020e+03 3.1034360e+03 1.0876404e+03 2.7207600e+01\n  6.1936000e+01 1.1281200e+01]]\n"
     ]
    }
   ],
   "source": [
    "chi,p,dof,expected=scipy.stats.chi2_contingency(table_edu)\n",
    "print('p-value:', p)\n",
    "print('Ожидаемые частоты:', expected)"
   ]
  },
  {
   "cell_type": "code",
   "execution_count": 14,
   "metadata": {},
   "outputs": [
    {
     "output_type": "display_data",
     "data": {
      "text/plain": "<Figure size 432x288 with 1 Axes>",
      "image/png": "[encoded data removed]"
     },
     "metadata": {}
    }
   ],
   "source": [
    "plt.hist(vernuli_ed, label='Vernuli')\n",
    "plt.hist(nevernuli_ed, label='Nevernuli')\n",
    "plt.plot([0,1,2,3,4,5,6], expected[0], label='Vernuli_expected')\n",
    "plt.plot([0,1,2,3,4,5,6], expected[1], label='Nevernuli_expected')\n",
    "plt.xlabel('Education')\n",
    "plt.ylabel('Count')\n",
    "plt.legend()\n",
    "plt.show()"
   ]
  },
  {
   "cell_type": "markdown",
   "metadata": {},
   "source": [
    "p-value меньше 0.05, нулевая гипотеза отвергается"
   ]
  },
  {
   "cell_type": "code",
   "execution_count": 15,
   "metadata": {},
   "outputs": [
    {
     "output_type": "execute_result",
     "data": {
      "text/plain": [
       "                0        1        2         3        4       5       6\n",
       "Vernuli    3.0968  305.402 -226.564 -149.3596  20.2076  43.936  3.2812\n",
       "Nevernuli -3.0968 -305.402  226.564  149.3596 -20.2076 -43.936 -3.2812"
      ],
      "text/html": "<div>\n<style scoped>\n    .dataframe tbody tr th:only-of-type {\n        vertical-align: middle;\n    }\n\n    .dataframe tbody tr th {\n        vertical-align: top;\n    }\n\n    .dataframe thead th {\n        text-align: right;\n    }\n</style>\n<table border=\"1\" class=\"dataframe\">\n  <thead>\n    <tr style=\"text-align: right;\">\n      <th></th>\n      <th>0</th>\n      <th>1</th>\n      <th>2</th>\n      <th>3</th>\n      <th>4</th>\n      <th>5</th>\n      <th>6</th>\n    </tr>\n  </thead>\n  <tbody>\n    <tr>\n      <th>Vernuli</th>\n      <td>3.0968</td>\n      <td>305.402</td>\n      <td>-226.564</td>\n      <td>-149.3596</td>\n      <td>20.2076</td>\n      <td>43.936</td>\n      <td>3.2812</td>\n    </tr>\n    <tr>\n      <th>Nevernuli</th>\n      <td>-3.0968</td>\n      <td>-305.402</td>\n      <td>226.564</td>\n      <td>149.3596</td>\n      <td>-20.2076</td>\n      <td>-43.936</td>\n      <td>-3.2812</td>\n    </tr>\n  </tbody>\n</table>\n</div>"
     },
     "metadata": {},
     "execution_count": 15
    }
   ],
   "source": [
    "# Матрица сопряженности\n",
    "pd.DataFrame(np.array(pd.crosstab(df['default'], df['EDUCATION'])) - expected).rename(index={0:'Vernuli', 1:'Nevernuli'})"
   ]
  },
  {
   "cell_type": "code",
   "execution_count": 16,
   "metadata": {},
   "outputs": [
    {
     "output_type": "display_data",
     "data": {
      "text/plain": "<Figure size 432x288 with 1 Axes>",
      "image/png": "[encoded data removed]"
     },
     "metadata": {}
    }
   ],
   "source": [
    "# модифицируем таблицу так, чтобы привести значения ячеек к одному масштабу\n",
    "diff_edu2_scaled = (table_edu.iloc[0] - table_edu.iloc[1]) / ((table_edu.iloc[0] + table_edu.iloc[1]))\n",
    "plt.bar(diff_edu2_scaled.index,diff_edu2_scaled)\n",
    "plt.xlabel('Education')\n",
    "plt.show()"
   ]
  },
  {
   "cell_type": "markdown",
   "metadata": {},
   "source": [
    "Образование \"Доктор наук\" является лучшим индикатором возврата долга, также хорошие показатели у людей с \"начальным образованием\" и пунктом \"другое\". Худший индикатор - \"выпускник школы\""
   ]
  },
  {
   "cell_type": "markdown",
   "metadata": {},
   "source": [
    "### 4. Семейное положение (MARRIAGE): Проверьте, как связан семейный статус с индикатором дефолта: нужно предложить меру, по которой можно измерить возможную связь этих переменных и посчитать ее значение.  \n",
    "\n",
    "MARRIAGE: (0 = отказываюсь отвечать; 1 = замужем/женат; 2 = холост; 3 = нет данных)."
   ]
  },
  {
   "cell_type": "code",
   "execution_count": 17,
   "metadata": {},
   "outputs": [
    {
     "output_type": "display_data",
     "data": {
      "text/plain": "<Figure size 432x288 with 1 Axes>",
      "image/png": "[encoded data removed]"
     },
     "metadata": {}
    }
   ],
   "source": [
    "vernuli_mrg = df[df['default'] == 0]['MARRIAGE']\n",
    "nevernuli_mrg = df[df['default'] == 1]['MARRIAGE']\n",
    "plt.hist(vernuli_mrg)\n",
    "plt.hist(nevernuli_mrg)\n",
    "plt.xlabel('Marriage')\n",
    "plt.ylabel('Count')\n",
    "plt.show()"
   ]
  },
  {
   "cell_type": "code",
   "execution_count": 18,
   "metadata": {},
   "outputs": [
    {
     "output_type": "execute_result",
     "data": {
      "text/plain": [
       "            0      1      2    3\n",
       "vernuli    49  10453  12623  239\n",
       "nevernuli   5   3206   3341   84"
      ],
      "text/html": "<div>\n<style scoped>\n    .dataframe tbody tr th:only-of-type {\n        vertical-align: middle;\n    }\n\n    .dataframe tbody tr th {\n        vertical-align: top;\n    }\n\n    .dataframe thead th {\n        text-align: right;\n    }\n</style>\n<table border=\"1\" class=\"dataframe\">\n  <thead>\n    <tr style=\"text-align: right;\">\n      <th></th>\n      <th>0</th>\n      <th>1</th>\n      <th>2</th>\n      <th>3</th>\n    </tr>\n  </thead>\n  <tbody>\n    <tr>\n      <th>vernuli</th>\n      <td>49</td>\n      <td>10453</td>\n      <td>12623</td>\n      <td>239</td>\n    </tr>\n    <tr>\n      <th>nevernuli</th>\n      <td>5</td>\n      <td>3206</td>\n      <td>3341</td>\n      <td>84</td>\n    </tr>\n  </tbody>\n</table>\n</div>"
     },
     "metadata": {},
     "execution_count": 18
    }
   ],
   "source": [
    "mtrx = pd.DataFrame([vernuli_mrg.value_counts(sort=False),\n",
    "                nevernuli_mrg.value_counts(sort=False)], index=['vernuli','nevernuli'])\n",
    "mtrx"
   ]
  },
  {
   "cell_type": "markdown",
   "metadata": {},
   "source": [
    "##### Воспользуемся коэффициентом V Крамера для измерения связи между семейным статусом и индикатором дефолта\n",
    "\n",
    "https://en.wikipedia.org/wiki/Cramér%27s_V  \n",
    "  \n",
    "![Image](https://wikimedia.org/api/rest_v1/media/math/render/svg/0168563de020cbca0654cd9cd4265208ee9d3280)"
   ]
  },
  {
   "cell_type": "code",
   "execution_count": 19,
   "metadata": {},
   "outputs": [
    {
     "output_type": "stream",
     "name": "stdout",
     "text": [
      "Количество объектов в таблицу сопряженности: 30000\nДоля элементов в таблице < 5: 0.0\n"
     ]
    }
   ],
   "source": [
    "# Проверка применимости критерия хи-квадрат:количество объектов в таблице сопряженности более 40 и\n",
    "# доля элементов в таблице < 5 не более 20% \n",
    "print('Количество объектов в таблицу сопряженности:',mtrx.sum().sum()) # \n",
    "print('Доля элементов в таблице < 5:',(mtrx<5).sum().sum()/mtrx.count().sum())"
   ]
  },
  {
   "cell_type": "code",
   "execution_count": 20,
   "metadata": {},
   "outputs": [
    {
     "output_type": "stream",
     "name": "stdout",
     "text": [
      "p-value: 8.825862457577375e-08\n"
     ]
    }
   ],
   "source": [
    "ts,p,d,e = scipy.stats.chi2_contingency(mtrx)\n",
    "print('p-value:',p)"
   ]
  },
  {
   "cell_type": "code",
   "execution_count": 21,
   "metadata": {},
   "outputs": [
    {
     "output_type": "stream",
     "name": "stdout",
     "text": [
      "Коэффициент V Крамера: 0.034478203662766466\n"
     ]
    }
   ],
   "source": [
    "n = mtrx.sum().sum()\n",
    "r,k = mtrx.shape\n",
    "print('Коэффициент V Крамера:',np.sqrt((ts/n) / min((k-1), (r-1))))"
   ]
  },
  {
   "cell_type": "markdown",
   "metadata": {},
   "source": [
    "Связь между семейным статусом и дефолтом практически отсутствует"
   ]
  },
  {
   "cell_type": "markdown",
   "metadata": {},
   "source": [
    "### 5. Возраст (AGE): Относительно двух групп людей вернувших и не вернувших кредит проверьте следующие гипотезы: "
   ]
  },
  {
   "cell_type": "markdown",
   "metadata": {},
   "source": [
    "##### a) о равенстве медианных значений возрастов людей "
   ]
  },
  {
   "cell_type": "code",
   "execution_count": 22,
   "metadata": {},
   "outputs": [
    {
     "output_type": "display_data",
     "data": {
      "text/plain": "<Figure size 432x288 with 1 Axes>",
      "image/png": "[encoded data removed]"
     },
     "metadata": {}
    }
   ],
   "source": [
    "vernuli_age = df[df['default'] == 0]['AGE']\n",
    "nevernuli_age = df[df['default'] == 1]['AGE']\n",
    "\n",
    "plt.hist(vernuli_age, bins=20)\n",
    "plt.hist(nevernuli_age, bins=20)\n",
    "plt.xlabel('Age')\n",
    "plt.ylabel('Count')\n",
    "plt.show()"
   ]
  },
  {
   "cell_type": "code",
   "execution_count": 23,
   "metadata": {},
   "outputs": [
    {
     "output_type": "stream",
     "name": "stdout",
     "text": [
      "Доверительный интервал медиан для вернувших кредит: [34. 34.]\nДоверительный интервал медиан для невернувших кредит: [34. 35.]\nДоверительный интервал разности медиан: [-1.  0.]\n"
     ]
    }
   ],
   "source": [
    "vern_median_scores = np.median(get_bootstrap_samples(vernuli_age.values, 1000),axis=1)\n",
    "nevern_median_scores = np.median(get_bootstrap_samples(nevernuli_age.values, 1000),axis=1)\n",
    "\n",
    "print (\"Доверительный интервал медиан для вернувших кредит:\",  stat_intervals(vern_median_scores, 0.05))\n",
    "print (\"Доверительный интервал медиан для невернувших кредит:\",  stat_intervals(nevern_median_scores, 0.05))\n",
    "print('Доверительный интервал разности медиан:',\n",
    "      stat_intervals(vern_median_scores - nevern_median_scores, 0.05))"
   ]
  },
  {
   "cell_type": "markdown",
   "metadata": {},
   "source": [
    "##### b) о равенстве распределений с помощью одного из подходящих непараметрических критериев проверки равенства средних. Значимы ли полученные результаты с практической точки зрения ?"
   ]
  },
  {
   "cell_type": "code",
   "execution_count": 24,
   "metadata": {},
   "outputs": [
    {
     "output_type": "stream",
     "name": "stdout",
     "text": [
      "p-value: 0.1862517717449308\n"
     ]
    }
   ],
   "source": [
    "# Воспользуемся критерием Манна-Уитни для проверки равенства средних\n",
    "print('p-value:',scipy.stats.mannwhitneyu(vernuli_age,nevernuli_age).pvalue)"
   ]
  },
  {
   "cell_type": "markdown",
   "metadata": {},
   "source": [
    "Значение p-value не позволяет отклонить нулевую гипотезу. Применим перестановочный критерий"
   ]
  },
  {
   "cell_type": "code",
   "execution_count": 25,
   "metadata": {},
   "outputs": [
    {
     "output_type": "stream",
     "name": "stdout",
     "text": [
      "p-value: 0.018\n"
     ]
    }
   ],
   "source": [
    "print('p-value:',permutation_test(nevernuli_age,vernuli_age,5000))"
   ]
  },
  {
   "cell_type": "markdown",
   "metadata": {},
   "source": [
    "p-value позволяет отклонить нулевую гипотезу. Можно сказать, что возраст не является значимым"
   ]
  }
 ],
 "metadata": {
  "kernelspec": {
   "display_name": "Python 3",
   "language": "python",
   "name": "python3"
  },
  "language_info": {
   "codemirror_mode": {
    "name": "ipython",
    "version": 3
   },
   "file_extension": ".py",
   "mimetype": "text/x-python",
   "name": "python",
   "nbconvert_exporter": "python",
   "pygments_lexer": "ipython3",
   "version": "3.6.8-final"
  }
 },
 "nbformat": 4,
 "nbformat_minor": 4
}