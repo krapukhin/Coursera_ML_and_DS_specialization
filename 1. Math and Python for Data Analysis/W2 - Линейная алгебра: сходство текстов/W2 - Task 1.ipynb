{
 "cells": [
  {
   "cell_type": "raw",
   "metadata": {},
   "source": [
    "Задача 1: сравнение предложений\n",
    "\n",
    "Дан набор предложений, скопированных с Википедии. Каждое из них имеет \"кошачью тему\" в одном из трех смыслов:\n",
    "\n",
    "кошки (животные)\n",
    "UNIX-утилита cat для вывода содержимого файлов\n",
    "версии операционной системы OS X, названные в честь семейства кошачьих\n",
    "Ваша задача — найти два предложения, которые ближе всего по смыслу к расположенному в самой первой строке. В качестве меры близости по смыслу мы будем использовать косинусное расстояние.\n",
    "\n",
    "sentences.txt\n",
    "Выполните следующие шаги:\n",
    "\n",
    "Скачайте файл с предложениями (sentences.txt).\n",
    "Каждая строка в файле соответствует одному предложению. Считайте их, приведите каждую к нижнему регистру с помощью строковой функции lower().\n",
    "Произведите токенизацию, то есть разбиение текстов на слова. Для этого можно воспользоваться регулярным выражением, которое считает разделителем любой символ, не являющийся буквой: re.split('[^a-z]', t). Не забудьте удалить пустые слова после разделения.\n",
    "Составьте список всех слов, встречающихся в предложениях. Сопоставьте каждому слову индекс от нуля до (d - 1), где d — число различных слов в предложениях. Для этого удобно воспользоваться структурой dict.\n",
    "Создайте матрицу размера n * d, где n — число предложений. Заполните ее: элемент с индексом (i, j) в этой матрице должен быть равен количеству вхождений j-го слова в i-е предложение. У вас должна получиться матрица размера 22 * 254.\n",
    "Найдите косинусное расстояние от предложения в самой первой строке (In comparison to dogs, cats have not undergone...) до всех остальных с помощью функции scipy.spatial.distance.cosine. Какие номера у двух предложений, ближайших к нему по этому расстоянию (строки нумеруются с нуля)? Эти два числа и будут ответами на задание. Само предложение (In comparison to dogs, cats have not undergone... ) имеет индекс 0.\n",
    "Запишите полученные числа в файл, разделив пробелом. Обратите внимание, что файл должен состоять из одной строки, в конце которой не должно быть переноса. Пример файла с решением вы можете найти в конце задания (submission-1.txt).\n",
    "Совпадают ли ближайшие два предложения по тематике с первым? Совпадают ли тематики у следующих по близости предложений?\n",
    "Разумеется, использованный вами метод крайне простой. Например, он не учитывает формы слов (так, cat и cats он считает разными словами, хотя по сути они означают одно и то же), не удаляет из текстов артикли и прочие ненужные слова. Позже мы будем подробно изучать анализ текстов, где выясним, как достичь высокого качества в задаче поиска похожих предложений."
   ]
  },
  {
   "cell_type": "code",
   "execution_count": 1,
   "metadata": {},
   "outputs": [
    {
     "name": "stdout",
     "output_type": "stream",
     "text": [
      "6 0.7327387580875756\n",
      "4 0.7770887149698589\n"
     ]
    }
   ],
   "source": [
    "import re\n",
    "import numpy as np\n",
    "import scipy\n",
    "from scipy.spatial import distance\n",
    "\n",
    "with open('W2 - Task 1 - sentences.txt', 'r') as x:\n",
    "    text = x.read().lower() # считываем файл целиком и делаем нижний регистр\n",
    "    list_all = re.split('[^a-z]', text) # разбиваем в массив по пробелам и всяким знакам\n",
    "    \n",
    "    # проверяем все элементы грязного массива чтобы отбросить пустышки\n",
    "    list_clear2 = [] # пустой чистый массив\n",
    "    for i in list_all: \n",
    "        if i != '':\n",
    "            list_clear2 += [i]\n",
    "\n",
    "    # делаем массив из использованных слов по порядку (если слово уже было то не добавляем его)\n",
    "    slovar = []\n",
    "    for j in list_clear2:\n",
    "        if j not in slovar:\n",
    "            slovar += [j]\n",
    "    \n",
    "    # делаем словари: {порядковый_номер_слова:слово} и {слово:его_количество_в_тексте}\n",
    "    dict_slov = {}\n",
    "    obratny = {} \n",
    "    index = 0\n",
    "    for k in slovar:\n",
    "        dict_slov[index] = k\n",
    "        obratny [k] = index\n",
    "        index +=1\n",
    "    \n",
    "    # делаем массив из целых предложений\n",
    "    list_all = re.split('\\n', text) # массив в котором элементы это целиковые предложения\n",
    "    list_clear = [] # пустой чистый массив\n",
    "    for i in list_all: # берем одно предложение из массива\n",
    "        y = re.split('[^a-z]', i) # сплитим его чтобы оставить только слова. Но массив грязный (с пустышками)\n",
    "        element_clear = [] # пустой чистый массив\n",
    "        for k in y: # очищаем грязный массив от пустышек\n",
    "            if k != '':\n",
    "                element_clear += [k]\n",
    "        \n",
    "        \n",
    "        if element_clear != []: # в конце массива появлялся пустой элемент [''], это костыль чтобы его убрать\n",
    "            list_clear += [element_clear]\n",
    "            \n",
    "    \n",
    "    b = np.zeros((22,254)) # делаем нулевую матрицу\n",
    "    for z in range(0,len(list_clear)): # берем номер строки матрицы от 0 до 22\n",
    "        for m in list_clear[z]: #для каждого элемента строки считаем его и добавляем единичку в нулевой матрице 22на254  \n",
    "            b[z][obratny[m]] +=1 # тут используется словарь {слово:его_количество_в_тексте} чтобы по ключам находить значения\n",
    "    \n",
    "\n",
    "a = np.array((b)) # преобразуем в numpy матрицу\n",
    "cos_dist = {}\n",
    "# Считаем косинусное расстояние от предложения в самой первой строке (In comparison to dogs, cats have not undergone...) \n",
    "# до всех остальных с помощью функции scipy.spatial.distance.cosine. Складываем их в словарь\n",
    "for k in range (1,22):\n",
    "    cos_dist[distance.cosine(a[0,:],a[k,:])] = k\n",
    "\n",
    "menshie = sorted(cos_dist)[:2] # оставляем 2 наименьших значения\n",
    "to_out = [] # словарь для записи ответа в файл\n",
    "for i in menshie:\n",
    "    to_out += [cos_dist[i]]\n",
    "    print cos_dist[i], i\n",
    "    \n",
    "with open('W2 - Task 1 - answer.txt', 'a') as result:\n",
    "    for k in to_out:\n",
    "        result.write(str(k)+' ')"
   ]
  },
  {
   "cell_type": "code",
   "execution_count": 2,
   "metadata": {},
   "outputs": [
    {
     "name": "stdout",
     "output_type": "stream",
     "text": [
      "['in', 'comparison', 'to', 'dogs', 'cats', 'have', 'not', 'undergone', 'major', 'changes', 'during', 'the', 'domestication', 'process']\n",
      "['domestic', 'cats', 'are', 'similar', 'in', 'size', 'to', 'the', 'other', 'members', 'of', 'the', 'genus', 'felis', 'typically', 'weighing', 'between', 'and', 'kg', 'and', 'lb']\n",
      "['in', 'one', 'people', 'deliberately', 'tamed', 'cats', 'in', 'a', 'process', 'of', 'artificial', 'selection', 'as', 'they', 'were', 'useful', 'predators', 'of', 'vermin']\n",
      "['cat', 'with', 'one', 'named', 'file', 'is', 'safer', 'where', 'human', 'error', 'is', 'a', 'concern', 'one', 'wrong', 'use', 'of', 'the', 'default', 'redirection', 'symbol', 'instead', 'of', 'often', 'adjacent', 'on', 'keyboards', 'may', 'permanently', 'delete', 'the', 'file', 'you', 'were', 'just', 'needing', 'to', 'read']\n"
     ]
    }
   ],
   "source": [
    "print list_clear[0]\n",
    "print list_clear[6]\n",
    "print list_clear[4]\n",
    "print list_clear[8]"
   ]
  }
 ],
 "metadata": {
  "kernelspec": {
   "display_name": "Python 2",
   "language": "python",
   "name": "python2"
  },
  "language_info": {
   "codemirror_mode": {
    "name": "ipython",
    "version": 2
   },
   "file_extension": ".py",
   "mimetype": "text/x-python",
   "name": "python",
   "nbconvert_exporter": "python",
   "pygments_lexer": "ipython2",
   "version": "2.7.15"
  }
 },
 "nbformat": 4,
 "nbformat_minor": 2
}
