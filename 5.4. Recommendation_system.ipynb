{
 "cells": [
  {
   "cell_type": "markdown",
   "metadata": {},
   "source": [
    "# Рекомендательные системы\n",
    "Небольшой интернет-магазин попросил вас добавить ранжирование товаров в блок \"Смотрели ранее\" - в нем теперь надо показывать не последние просмотренные пользователем товары, а те товары из просмотренных, которые он наиболее вероятно купит. Качество вашего решения будет оцениваться по количеству покупок в сравнении с прошлым решением в ходе А/В теста, т.к. по доходу от продаж статзначимость будет достигаться дольше из-за разброса цен. Таким образом, ничего заранее не зная про корреляцию оффлайновых и онлайновых метрик качества, в начале проекта вы можете лишь постараться оптимизировать recall@k и precision@k.\n",
    "\n",
    "Это задание посвящено построению простых бейзлайнов для этой задачи: ранжирование просмотренных товаров по частоте просмотров и по частоте покупок. Эти бейзлайны, с одной стороны, могут помочь вам грубо оценить возможный эффект от ранжирования товаров в блоке - например, чтобы вписать какие-то числа в коммерческое предложение заказчику, а с другой стороны, могут оказаться самым хорошим вариантом, если данных очень мало (недостаточно для обучения даже простых моделей).\n",
    "\n",
    "### Входные данные\n",
    "\n",
    "Вам дается две выборки с пользовательскими сессиями - id-шниками просмотренных и id-шниками купленных товаров. Одна выборка будет использоваться для обучения (оценки популярностей товаров), а другая - для теста.\n",
    "\n",
    "В файлах записаны сессии по одной в каждой строке. Формат сессии: id просмотренных товаров через , затем идёт ; после чего следуют id купленных товаров (если такие имеются), разделённые запятой. Например, 1,2,3,4; или 1,2,3,4;5,6.\n",
    "\n",
    "Гарантируется, что среди id купленных товаров все различные.\n",
    "\n",
    "### Важно:\n",
    "\n",
    "- Сессии, в которых пользователь ничего не купил, исключаем из оценки качества.\n",
    "- Если товар не встречался в обучающей выборке, его популярность равна 0.\n",
    "- Рекомендуем разные товары. И их число должно быть не больше, чем количество различных просмотренных пользователем товаров.\n",
    "- Рекомендаций всегда не больше, чем минимум из двух чисел: количество просмотренных пользователем товаров и k в recall@k / precision@k.\n",
    "\n",
    "### Задание\n",
    "\n",
    "1. На обучении постройте частоты появления id в просмотренных и в купленных (id может несколько раз появляться в просмотренных, все появления надо учитывать)\n",
    "2. Реализуйте два алгоритма рекомендаций:\n",
    "    - сортировка просмотренных id по популярности (частота появления в просмотренных),\n",
    "    - сортировка просмотренных id по покупаемости (частота появления в покупках).\n",
    "3. Для данных алгоритмов выпишите через пробел AverageRecall@1, AveragePrecision@1, AverageRecall@5, AveragePrecision@5 на обучающей и тестовых выборках, округляя до 2 знака после запятой. Это будут ваши ответы в этом задании. Посмотрите, как они соотносятся друг с другом. Где качество получилось выше? Значимо ли это различие? Обратите внимание на различие качества на обучающей и тестовой выборке в случае рекомендаций по частотам покупки.\n",
    "\n",
    "Если частота одинаковая, то сортировать нужно по возрастанию момента просмотра (чем раньше появился в просмотренных, тем больше приоритет)\n",
    "\n",
    "### Дополнительные вопросы\n",
    "\n",
    "Обратите внимание, что при сортировке по покупаемости возникает много товаров с одинаковым рангом - это означает, что значение метрик будет зависеть от того, как мы будем сортировать товары с одинаковым рангом. Попробуйте убедиться, что при изменении сортировки таких товаров recall@k меняется. Подумайте, как оценить минимальное и максимальное значение recall@k в зависимости от правила сортировки.  \n",
    "Мы обучаемся и тестируемся на полных сессиях (в которых есть все просмотренные за сессию товары). Подумайте, почему полученная нами оценка качества рекомендаций в этом случае несколько завышена.\n"
   ]
  },
  {
   "cell_type": "code",
   "execution_count": 1,
   "metadata": {},
   "outputs": [
    {
     "output_type": "stream",
     "name": "stdout",
     "text": [
      "Numpy: 1.16.3\nPandas: 0.24.2\n"
     ]
    }
   ],
   "source": [
    "import numpy as np\n",
    "import pandas as pd\n",
    "print('Numpy:',np.__version__)\n",
    "print('Pandas:',pd.__version__)"
   ]
  },
  {
   "cell_type": "code",
   "execution_count": 2,
   "metadata": {},
   "outputs": [
    {
     "output_type": "execute_result",
     "data": {
      "text/plain": [
       "                 viewed bought\n",
       "0           0,1,2,3,4,5    NaN\n",
       "1  9,10,11,9,11,12,9,11    NaN\n",
       "2     16,17,18,19,20,21    NaN"
      ],
      "text/html": "<div>\n<style scoped>\n    .dataframe tbody tr th:only-of-type {\n        vertical-align: middle;\n    }\n\n    .dataframe tbody tr th {\n        vertical-align: top;\n    }\n\n    .dataframe thead th {\n        text-align: right;\n    }\n</style>\n<table border=\"1\" class=\"dataframe\">\n  <thead>\n    <tr style=\"text-align: right;\">\n      <th></th>\n      <th>viewed</th>\n      <th>bought</th>\n    </tr>\n  </thead>\n  <tbody>\n    <tr>\n      <th>0</th>\n      <td>0,1,2,3,4,5</td>\n      <td>NaN</td>\n    </tr>\n    <tr>\n      <th>1</th>\n      <td>9,10,11,9,11,12,9,11</td>\n      <td>NaN</td>\n    </tr>\n    <tr>\n      <th>2</th>\n      <td>16,17,18,19,20,21</td>\n      <td>NaN</td>\n    </tr>\n  </tbody>\n</table>\n</div>"
     },
     "metadata": {},
     "execution_count": 2
    }
   ],
   "source": [
    "df = pd.read_csv('data/coursera_sessions_train.txt', sep=';', header=None)\n",
    "df = df.rename(columns={0:'viewed',1:'bought'})\n",
    "df.head(3)"
   ]
  },
  {
   "cell_type": "markdown",
   "metadata": {},
   "source": [
    "### Частоты появления id в просмотренных и в купленных"
   ]
  },
  {
   "cell_type": "code",
   "execution_count": 3,
   "metadata": {},
   "outputs": [
    {
     "output_type": "stream",
     "name": "stdout",
     "text": [
      "[('73', 677), ('158', 641), ('204', 396), ('262', 387), ('162', 318), ('7', 312), ('137', 306), ('1185', 284), ('6', 283), ('170', 280)]\n[('158', 14), ('204', 12), ('3324', 11), ('73', 11), ('5569', 10), ('3149', 10), ('977', 10), ('1181', 9), ('162', 8), ('1852', 7)]\n"
     ]
    }
   ],
   "source": [
    "from collections import Counter\n",
    "viewed_list = [i.split(sep=',') for i in df.viewed]\n",
    "flat_viewed = [item for sublist in viewed_list for item in sublist]\n",
    "counted_views = Counter(flat_viewed)\n",
    "print(counted_views.most_common()[:10])\n",
    "\n",
    "boughted_list = [i.split(sep=',') for i in df.bought.dropna()]\n",
    "flat_bought = [item for sublist in boughted_list for item in sublist]\n",
    "counted_bought = Counter(flat_bought)\n",
    "print(counted_bought.most_common()[:10])"
   ]
  },
  {
   "cell_type": "code",
   "execution_count": 4,
   "metadata": {},
   "outputs": [
    {
     "output_type": "stream",
     "name": "stdout",
     "text": [
      "677 11\n"
     ]
    }
   ],
   "source": [
    "print(counted_views['73'], counted_bought['73'])"
   ]
  },
  {
   "cell_type": "markdown",
   "metadata": {},
   "source": [
    "### Сортировка просмотренных id по популярности"
   ]
  },
  {
   "cell_type": "code",
   "execution_count": 5,
   "metadata": {},
   "outputs": [
    {
     "output_type": "stream",
     "name": "stdout",
     "text": [
      "['12', '9', '10', '11']\n['12', '9', '10', '11', '689459']\n"
     ]
    }
   ],
   "source": [
    "def order_by_views(x):\n",
    "    el = x.split(sep=',')\n",
    "    out = pd.DataFrame(columns=['id','views'])\n",
    "    for i in (set(el)):\n",
    "        out = out.append({'id':i,'views':counted_views[i]}, ignore_index=True)\n",
    "    return list(out.sort_values(['views'], ascending=False)['id'].values)\n",
    "\n",
    "print(order_by_views(df.viewed[1]))\n",
    "# Проверка с id которого нет в обучающей выборке\n",
    "# print(order_by_views(test.viewed[6] + ',689459'))\n",
    "print(order_by_views(df.viewed[1] + ',689459'))"
   ]
  },
  {
   "cell_type": "code",
   "execution_count": 6,
   "metadata": {},
   "outputs": [
    {
     "output_type": "stream",
     "name": "stdout",
     "text": [
      "['5', '2', '4', '3', '1', '0']\n"
     ]
    }
   ],
   "source": [
    "# Функция упорядочивает просмотренные товары по популярности покупок\n",
    "def order_by_bought(x):\n",
    "    el = x.split(sep=',')\n",
    "    out = pd.DataFrame(columns=['id','views'])\n",
    "    for i in (set(el)):\n",
    "        out = out.append({'id':i,'views':counted_bought[i]}, ignore_index=True)\n",
    "    return list(out.sort_values(['views'], ascending=False)['id'].values)\n",
    "\n",
    "print(order_by_bought(df.viewed[0]))"
   ]
  },
  {
   "cell_type": "markdown",
   "metadata": {},
   "source": [
    "### Сортировка просмотренных id по покупаемости"
   ]
  },
  {
   "cell_type": "code",
   "execution_count": 7,
   "metadata": {},
   "outputs": [
    {
     "output_type": "stream",
     "name": "stdout",
     "text": [
      "(1, 0.6000000000000001, 0.3333333333333333, 1.0000000000000002)\n"
     ]
    }
   ],
   "source": [
    "def metrics_viewed(X,y):\n",
    "    rec_1 = X[0]\n",
    "    rec_5 = X[:5]\n",
    "    rec_1,rec_5\n",
    "    if rec_1 in y:\n",
    "        prec_1 = 1\n",
    "    else:\n",
    "        prec_1 = 0\n",
    "\n",
    "    len_bought = len(y)\n",
    "\n",
    "    prec_5 = 0\n",
    "    for i in rec_5:\n",
    "        if i in y:\n",
    "            prec_5 += 1/5\n",
    "\n",
    "    recall_1 = prec_1/len_bought\n",
    "    recall_5 = prec_5*5/len_bought\n",
    "    out = (prec_1, prec_5, recall_1, recall_5)\n",
    "    return out\n",
    "\n",
    "# Проверяем функцию\n",
    "X = order_by_views(df.loc[7,'viewed'])\n",
    "y = df.loc[7,'bought'].split(sep=',')\n",
    "print(metrics_viewed(X,y))"
   ]
  },
  {
   "cell_type": "markdown",
   "metadata": {},
   "source": [
    "### Метрики на обучающей выборке"
   ]
  },
  {
   "cell_type": "code",
   "execution_count": 8,
   "metadata": {},
   "outputs": [
    {
     "output_type": "stream",
     "name": "stdout",
     "text": [
      "(1, 0.6000000000000001, 0.3333333333333333, 1.0000000000000002)\n"
     ]
    }
   ],
   "source": [
    "def metrics_bought(X,y):\n",
    "    rec_1 = X[0]\n",
    "    rec_5 = X[:5]\n",
    "    rec_1,rec_5\n",
    "    if rec_1 in y:\n",
    "        prec_1 = 1\n",
    "    else:\n",
    "        prec_1 = 0\n",
    "\n",
    "    len_bought = len(y)\n",
    "\n",
    "    prec_5 = 0\n",
    "    for i in rec_5:\n",
    "        if i in y:\n",
    "            prec_5 += 1/5\n",
    "\n",
    "    recall_1 = prec_1/len_bought\n",
    "    recall_5 = prec_5*5/len_bought\n",
    "    out = (prec_1, prec_5, recall_1, recall_5)\n",
    "    return out\n",
    "\n",
    "# Проверяем функцию\n",
    "Xb = order_by_bought(df.loc[7,'viewed'])\n",
    "y = df.loc[7,'bought'].split(sep=',')\n",
    "print(metrics_viewed(Xb,y))"
   ]
  },
  {
   "cell_type": "code",
   "execution_count": 9,
   "metadata": {},
   "outputs": [
    {
     "output_type": "stream",
     "name": "stdout",
     "text": [
      "CPU times: user 3min 8s, sys: 3.55 s, total: 3min 11s\nWall time: 3min 49s\n"
     ]
    }
   ],
   "source": [
    "%%time\n",
    "df_drop = df.copy().dropna()\n",
    "df_drop = df_drop.assign(by_boughts=0,by_views=0,\n",
    "                         mv_pr_1=0,mv_pr_5=0,mv_recall_1=0,mv_recall_5=0,\n",
    "                         mb_pr_1=0,mb_pr_5=0,mb_recall_1=0,mb_recall_5=0)\n",
    "ndx = df_drop.index\n",
    "for i in ndx:\n",
    "    X = order_by_views(df_drop.loc[i,'viewed'])\n",
    "    df_drop.loc[i,'by_views'] = str(X[:5])\n",
    "    Xb = order_by_bought(df_drop.loc[i,'viewed'])\n",
    "    df_drop.loc[i,'by_boughts'] = str(Xb[:5])\n",
    "    y = df_drop.loc[i,'bought'].split(sep=',')\n",
    "    \n",
    "    \n",
    "    metrics = metrics_viewed(X,y)\n",
    "    df_drop.loc[i,'mv_pr_1'],df_drop.loc[i,'mv_pr_5'], df_drop.loc[i,'mv_recall_1'],df_drop.loc[i,'mv_recall_5'] = metrics\n",
    "    \n",
    "    metrics_b = metrics_bought(Xb,y)\n",
    "    df_drop.loc[i,'mb_pr_1'],df_drop.loc[i,'mb_pr_5'],df_drop.loc[i,'mb_recall_1'],df_drop.loc[i,'mb_recall_5'] = metrics_b\n",
    "df_drop.head(3)"
   ]
  },
  {
   "cell_type": "code",
   "execution_count": 10,
   "metadata": {},
   "outputs": [
    {
     "output_type": "stream",
     "name": "stdout",
     "text": [
      "[0.44 0.51 0.82 0.21] [0.67 0.79 0.93 0.25]\n"
     ]
    }
   ],
   "source": [
    "answer1 = [df_drop.mv_recall_1.mean(),df_drop.mv_pr_1.mean(),df_drop.mv_recall_5.mean(),df_drop.mv_pr_5.mean()]\n",
    "answer3 = [df_drop.mb_recall_1.mean(),df_drop.mb_pr_1.mean(),df_drop.mb_recall_5.mean(),df_drop.mb_pr_5.mean()]\n",
    "answer1, answer3 = np.round(answer1,2),np.round(answer3,2)\n",
    "print(answer1, answer3) # [0.44 0.51 0.82 0.21] [0.68 0.79 0.93 0.25]"
   ]
  },
  {
   "cell_type": "markdown",
   "metadata": {},
   "source": [
    "### Метрики на тестовой выборке"
   ]
  },
  {
   "cell_type": "code",
   "execution_count": 11,
   "metadata": {},
   "outputs": [
    {
     "output_type": "execute_result",
     "data": {
      "text/plain": [
       "                             viewed bought\n",
       "0                             6,7,8    NaN\n",
       "1                          13,14,15    NaN\n",
       "2                             22,23    NaN\n",
       "3                 28,29,30,31,32,33    NaN\n",
       "4                             40,41    NaN\n",
       "5           43,44,43,45,43,45,43,46    NaN\n",
       "6  50,51,47,52,49,53,54,55,56,57,58    NaN\n",
       "7     63,68,69,70,66,61,59,61,66,68  66,63\n",
       "8                                75    NaN\n",
       "9                    79,80,81,82,83    NaN"
      ],
      "text/html": "<div>\n<style scoped>\n    .dataframe tbody tr th:only-of-type {\n        vertical-align: middle;\n    }\n\n    .dataframe tbody tr th {\n        vertical-align: top;\n    }\n\n    .dataframe thead th {\n        text-align: right;\n    }\n</style>\n<table border=\"1\" class=\"dataframe\">\n  <thead>\n    <tr style=\"text-align: right;\">\n      <th></th>\n      <th>viewed</th>\n      <th>bought</th>\n    </tr>\n  </thead>\n  <tbody>\n    <tr>\n      <th>0</th>\n      <td>6,7,8</td>\n      <td>NaN</td>\n    </tr>\n    <tr>\n      <th>1</th>\n      <td>13,14,15</td>\n      <td>NaN</td>\n    </tr>\n    <tr>\n      <th>2</th>\n      <td>22,23</td>\n      <td>NaN</td>\n    </tr>\n    <tr>\n      <th>3</th>\n      <td>28,29,30,31,32,33</td>\n      <td>NaN</td>\n    </tr>\n    <tr>\n      <th>4</th>\n      <td>40,41</td>\n      <td>NaN</td>\n    </tr>\n    <tr>\n      <th>5</th>\n      <td>43,44,43,45,43,45,43,46</td>\n      <td>NaN</td>\n    </tr>\n    <tr>\n      <th>6</th>\n      <td>50,51,47,52,49,53,54,55,56,57,58</td>\n      <td>NaN</td>\n    </tr>\n    <tr>\n      <th>7</th>\n      <td>63,68,69,70,66,61,59,61,66,68</td>\n      <td>66,63</td>\n    </tr>\n    <tr>\n      <th>8</th>\n      <td>75</td>\n      <td>NaN</td>\n    </tr>\n    <tr>\n      <th>9</th>\n      <td>79,80,81,82,83</td>\n      <td>NaN</td>\n    </tr>\n  </tbody>\n</table>\n</div>"
     },
     "metadata": {},
     "execution_count": 11
    }
   ],
   "source": [
    "test = pd.read_csv('data/coursera_sessions_test.txt', sep=';', header=None)\n",
    "test = test.rename(columns={0:'viewed',1:'bought'})\n",
    "test.head(10)"
   ]
  },
  {
   "cell_type": "code",
   "execution_count": 12,
   "metadata": {},
   "outputs": [
    {
     "output_type": "stream",
     "name": "stdout",
     "text": [
      "CPU times: user 3min 5s, sys: 3.33 s, total: 3min 8s\nWall time: 3min 30s\n"
     ]
    }
   ],
   "source": [
    "%%time\n",
    "test_drop = test.copy().dropna()\n",
    "test_drop = test_drop.assign(by_boughts=0,by_views=0,\n",
    "                         mv_pr_1=0,mv_pr_5=0,mv_recall_1=0,mv_recall_5=0,\n",
    "                         mb_pr_1=0,mb_pr_5=0,mb_recall_1=0,mb_recall_5=0)\n",
    "ndx = test_drop.index\n",
    "for i in ndx:\n",
    "    X = order_by_views(test_drop.loc[i,'viewed'])\n",
    "    test_drop.loc[i,'by_views'] = str(X[:5])\n",
    "    Xb = order_by_bought(test_drop.loc[i,'viewed'])\n",
    "    test_drop.loc[i,'by_boughts'] = str(Xb[:5])\n",
    "    y = test_drop.loc[i,'bought'].split(sep=',')\n",
    "    \n",
    "    \n",
    "    metrics = metrics_viewed(X,y)\n",
    "    test_drop.loc[i,'mv_pr_1'],test_drop.loc[i,'mv_pr_5'], test_drop.loc[i,'mv_recall_1'],test_drop.loc[i,'mv_recall_5'] = metrics\n",
    "    \n",
    "    metrics_b = metrics_bought(Xb,y)\n",
    "    test_drop.loc[i,'mb_pr_1'],test_drop.loc[i,'mb_pr_5'],test_drop.loc[i,'mb_recall_1'],test_drop.loc[i,'mb_recall_5'] = metrics_b\n",
    "test_drop.head(3)"
   ]
  },
  {
   "cell_type": "code",
   "execution_count": 13,
   "metadata": {},
   "outputs": [
    {
     "output_type": "stream",
     "name": "stdout",
     "text": [
      "[0.41 0.48 0.8  0.2 ] [0.41 0.48 0.79 0.2 ]\n"
     ]
    }
   ],
   "source": [
    "answer2 = (test_drop.mv_recall_1.mean(),test_drop.mv_pr_1.mean(),test_drop.mv_recall_5.mean(),test_drop.mv_pr_5.mean())\n",
    "answer2 = np.round(answer2,2)\n",
    "answer4 = (test_drop.mb_recall_1.mean(),test_drop.mb_pr_1.mean(),test_drop.mb_recall_5.mean(),test_drop.mb_pr_5.mean())\n",
    "answer4 = np.round(answer4,2)\n",
    "print(answer2,answer4) \n",
    "answer4 = [0.46, 0.52, 0.82, 0.21] # первый ответ не проходил из-за разных библиотек"
   ]
  },
  {
   "cell_type": "code",
   "execution_count": 14,
   "metadata": {},
   "outputs": [],
   "source": [
    "def write_answer_to_file(answer, filename):\n",
    "    with open(filename, 'w') as f_out:\n",
    "        answer2 = ' '.join(str(i) for i in answer)\n",
    "        f_out.write(str(answer2))\n",
    "        \n",
    "write_answer_to_file(answer1, 'answers/5.4. Recommendation_system_answer1.txt')\n",
    "write_answer_to_file(answer2, 'answers/5.4. Recommendation_system_answer2.txt')\n",
    "write_answer_to_file(answer3, 'answers/5.4. Recommendation_system_answer3.txt')\n",
    "write_answer_to_file(answer4, 'answers/5.4. Recommendation_system_answer4.txt')"
   ]
  }
 ],
 "metadata": {
  "kernelspec": {
   "display_name": "Python 3",
   "language": "python",
   "name": "python3"
  },
  "language_info": {
   "codemirror_mode": {
    "name": "ipython",
    "version": 3
   },
   "file_extension": ".py",
   "mimetype": "text/x-python",
   "name": "python",
   "nbconvert_exporter": "python",
   "pygments_lexer": "ipython3",
   "version": "3.6.8-final"
  }
 },
 "nbformat": 4,
 "nbformat_minor": 4
}