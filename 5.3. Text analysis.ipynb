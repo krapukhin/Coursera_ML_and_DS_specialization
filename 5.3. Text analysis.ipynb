{
 "cells": [
  {
   "cell_type": "markdown",
   "metadata": {},
   "source": [
    "# Примеры задач анализа текстов\n",
    "Классификация текстов: спам-фильтр для SMS\n",
    "\n",
    "В этом задании вам предстоит взять открытый датасет с SMS-сообщениями, размеченными на спам (\"spam\") и не спам (\"ham\"), построить на нем классификатор текстов на эти два класса, оценить его качество с помощью кросс-валидации, протестировать его работу на отдельных примерах, и посмотреть, что будет происходить с качеством, если менять параметры вашей модели.\n",
    "\n",
    "Задание\n",
    "\n",
    "1. Загрузите датасет. Описание датасета можно посмотреть здесь.\n",
    "smsspamcollection.zip\n",
    "2. Считайте датасет в Python (можете сразу грузить все в память, выборка небольшая), выясните, что используется в качестве разделителей и как проставляются метки классов.\n",
    "\n",
    "3. Подготовьте для дальнейшей работы два списка: список текстов в порядке их следования в датасете и список соответствующих им меток классов. В качестве метки класса используйте 1 для спама и 0 для \"не спама\".\n",
    "\n",
    "4. Используя sklearn.feature_extraction.text.CountVectorizer со стандартными настройками, получите из списка текстов матрицу признаков X.\n",
    "\n",
    "5. Оцените качество классификации текстов с помощью LogisticRegression() с параметрами по умолчанию, используя sklearn.cross_validation.cross_val_score и посчитав среднее арифметическое качества на отдельных fold'ах. Установите random_state=2. Параметр cv задайте равным 10. В качестве метрики качества используйте f1-меру. Получившееся качество - один из ответов, которые потребуются при сдаче задания. Ответ округлить до 1 знака после запятой.\n",
    "\n",
    "6. А теперь обучите классификатор на всей выборке и спрогнозируйте с его помощью класс для следующих сообщений:\n",
    "\n",
    "\"FreeMsg: Txt: CALL to No: 86888 & claim your reward of 3 hours talk time to use from your phone now! Subscribe6GB\"\n",
    "\n",
    "\"FreeMsg: Txt: claim your reward of 3 hours talk time\"\n",
    "\n",
    "\"Have you visited the last lecture on physics?\"\n",
    "\n",
    "\"Have you visited the last lecture on physics? Just buy this book and you will have all materials! Only 99$\"\n",
    "\n",
    "\"Only 99$\"\n",
    "\n",
    "Прогнозы классификатора (0 - не спам, 1 - спам), записанные через пробел, будут ответом в одном из вопросов ниже.\n",
    "\n",
    "7. Задайте в CountVectorizer параметр ngram_range=(2,2), затем ngram_range=(3,3), затем ngram_range=(1,3). Во всех трех случаях измерьте получившееся в кросс-валидации значение f1-меры, округлите до второго знака после точки, и выпишете результаты через пробел в том же порядке. В данном эксперименте мы пробовали добавлять в признаки n-граммы для разных диапазонов n - только биграммы, только триграммы, и, наконец, все вместе - униграммы, биграммы и триграммы. Обратите внимание, что статистики по биграммам и триграммам намного меньше, поэтому классификатор только на них работает хуже. В то же время это не ухудшает результат сколько-нибудь существенно, если добавлять их вместе с униграммами, т.к. за счет регуляризации линейный классификатор не склонен сильно переобучаться на этих признаках.\n",
    "\n",
    "8. Повторите аналогичный п.7 эксперимент, используя вместо логистической регрессии MultinomialNB(). Обратите внимание, насколько сильнее (по сравнению с линейным классификатором) наивный Байес страдает от нехватки статистики по биграммам и триграммам.\n",
    "\n",
    "По какой-то причине обучение наивного байесовского классификатора через Pipeline происходит с ошибкой. Чтобы получить правильный ответ, отдельно посчитайте частоты слов и обучите классификатор.\n",
    "\n",
    "9. Попробуйте использовать в логистической регрессии в качестве признаков Tf*idf из TfidfVectorizer на униграммах. Повысилось или понизилось качество на кросс-валидации по сравнению с CountVectorizer на униграммах? (напишите в файле с ответом 1, если повысилось, -1, если понизилось, и 0, если изменилось не более чем на 0.01). Обратите внимание, что результат перехода к tf*idf не всегда будет таким - если вы наблюдаете какое-то явление на одном датасете, не надо сразу же его обобщать на любые данные."
   ]
  },
  {
   "cell_type": "markdown",
   "metadata": {},
   "source": [
    "1. Загрузите датасет. Описание датасета можно посмотреть здесь.  \n",
    "smsspamcollection.zip"
   ]
  },
  {
   "cell_type": "markdown",
   "metadata": {},
   "source": [
    "2. Считайте датасет в Python (можете сразу грузить все в память, выборка небольшая), выясните, что используется в качестве разделителей и как проставляются метки классов."
   ]
  },
  {
   "cell_type": "code",
   "execution_count": 1,
   "metadata": {},
   "outputs": [],
   "source": [
    "import numpy as np\n",
    "import pandas as pd\n",
    "import matplotlib.pyplot as plt"
   ]
  },
  {
   "cell_type": "code",
   "execution_count": 2,
   "metadata": {},
   "outputs": [
    {
     "output_type": "execute_result",
     "data": {
      "text/plain": [
       "array(['ham\\tGo until jurong point, crazy.. Available only in bugis n great world la e buffet... Cine there got amore wat...',\n",
       "       'ham\\tOk lar... Joking wif u oni...',\n",
       "       \"spam\\tFree entry in 2 a wkly comp to win FA Cup final tkts 21st May 2005. Text FA to 87121 to receive entry question(std txt rate)T&C's apply 08452810075over18's\",\n",
       "       ...,\n",
       "       \"ham\\tThe guy did some bitching but I acted like i'd be interested in buying something else next week and he gave it to us for free\",\n",
       "       'ham\\tRofl. Its true to its name', ''], dtype='<U914')"
      ]
     },
     "metadata": {},
     "execution_count": 2
    }
   ],
   "source": [
    "with open ('data/SMSSpamCollection.txt', encoding='utf8') as x:\n",
    "    data = x.read()\n",
    "data = np.array(data.split(sep='\\n'))\n",
    "data"
   ]
  },
  {
   "cell_type": "markdown",
   "metadata": {},
   "source": [
    "3. Подготовьте для дальнейшей работы два списка: список текстов в порядке их следования в датасете и список соответствующих им меток классов. В качестве метки класса используйте 1 для спама и 0 для \"не спама\"."
   ]
  },
  {
   "cell_type": "code",
   "execution_count": 3,
   "metadata": {},
   "outputs": [],
   "source": [
    "metki = []\n",
    "texts = []\n",
    "for i in data:\n",
    "    i = i.split(sep='\\t')\n",
    "    if len(i) == 2:\n",
    "        metki += [i[0]]\n",
    "        texts += [i[1]]"
   ]
  },
  {
   "cell_type": "code",
   "execution_count": 4,
   "metadata": {},
   "outputs": [
    {
     "output_type": "stream",
     "name": "stdout",
     "text": [
      "5574 5574\n"
     ]
    }
   ],
   "source": [
    "print(len(metki), len(texts))"
   ]
  },
  {
   "cell_type": "code",
   "execution_count": 5,
   "metadata": {},
   "outputs": [
    {
     "output_type": "execute_result",
     "data": {
      "text/plain": [
       "     metki                                              texts\n",
       "0      ham  Go until jurong point, crazy.. Available only ...\n",
       "1      ham                      Ok lar... Joking wif u oni...\n",
       "2     spam  Free entry in 2 a wkly comp to win FA Cup fina...\n",
       "3      ham  U dun say so early hor... U c already then say...\n",
       "4      ham  Nah I don't think he goes to usf, he lives aro...\n",
       "5     spam  FreeMsg Hey there darling it's been 3 week's n...\n",
       "6      ham  Even my brother is not like to speak with me. ...\n",
       "7      ham  As per your request 'Melle Melle (Oru Minnamin...\n",
       "8     spam  WINNER!! As a valued network customer you have...\n",
       "9     spam  Had your mobile 11 months or more? U R entitle...\n",
       "10     ham  I'm gonna be home soon and i don't want to tal...\n",
       "11    spam  SIX chances to win CASH! From 100 to 20,000 po...\n",
       "12    spam  URGENT! You have won a 1 week FREE membership ...\n",
       "13     ham  I've been searching for the right words to tha...\n",
       "14     ham                I HAVE A DATE ON SUNDAY WITH WILL!!\n",
       "15    spam  XXXMobileMovieClub: To use your credit, click ...\n",
       "16     ham                         Oh k...i'm watching here:)\n",
       "17     ham  Eh u remember how 2 spell his name... Yes i di...\n",
       "18     ham  Fine if thats the way u feel. Thats the way ...\n",
       "19    spam  England v Macedonia - dont miss the goals/team...\n",
       "20     ham          Is that seriously how you spell his name?\n",
       "21     ham    I‘m going to try for 2 months ha ha only joking\n",
       "22     ham  So ü pay first lar... Then when is da stock co...\n",
       "23     ham  Aft i finish my lunch then i go str down lor. ...\n",
       "24     ham  Ffffffffff. Alright no way I can meet up with ...\n",
       "25     ham  Just forced myself to eat a slice. I'm really ...\n",
       "26     ham                     Lol your always so convincing.\n",
       "27     ham  Did you catch the bus ? Are you frying an egg ...\n",
       "28     ham  I'm back &amp; we're packing the car now, I'll...\n",
       "29     ham  Ahhh. Work. I vaguely remember that! What does...\n",
       "...    ...                                                ...\n",
       "5544   ham           Armand says get your ass over to epsilon\n",
       "5545   ham             U still havent got urself a jacket ah?\n",
       "5546   ham  I'm taking derek &amp; taylor to walmart, if I...\n",
       "5547   ham      Hi its in durban are you still on this number\n",
       "5548   ham         Ic. There are a lotta childporn cars then.\n",
       "5549  spam  Had your contract mobile 11 Mnths? Latest Moto...\n",
       "5550   ham                 No, I was trying it all weekend ;V\n",
       "5551   ham  You know, wot people wear. T shirts, jumpers, ...\n",
       "5552   ham        Cool, what time you think you can get here?\n",
       "5553   ham  Wen did you get so spiritual and deep. That's ...\n",
       "5554   ham  Have a safe trip to Nigeria. Wish you happines...\n",
       "5555   ham                        Hahaha..use your brain dear\n",
       "5556   ham  Well keep in mind I've only got enough gas for...\n",
       "5557   ham  Yeh. Indians was nice. Tho it did kane me off ...\n",
       "5558   ham  Yes i have. So that's why u texted. Pshew...mi...\n",
       "5559   ham  No. I meant the calculation is the same. That ...\n",
       "5560   ham                             Sorry, I'll call later\n",
       "5561   ham  if you aren't here in the next  &lt;#&gt;  hou...\n",
       "5562   ham                  Anything lor. Juz both of us lor.\n",
       "5563   ham  Get me out of this dump heap. My mom decided t...\n",
       "5564   ham  Ok lor... Sony ericsson salesman... I ask shuh...\n",
       "5565   ham                                Ard 6 like dat lor.\n",
       "5566   ham  Why don't you wait 'til at least wednesday to ...\n",
       "5567   ham                                       Huh y lei...\n",
       "5568  spam  REMINDER FROM O2: To get 2.50 pounds free call...\n",
       "5569  spam  This is the 2nd time we have tried 2 contact u...\n",
       "5570   ham               Will ü b going to esplanade fr home?\n",
       "5571   ham  Pity, * was in mood for that. So...any other s...\n",
       "5572   ham  The guy did some bitching but I acted like i'd...\n",
       "5573   ham                         Rofl. Its true to its name\n",
       "\n",
       "[5574 rows x 2 columns]"
      ],
      "text/html": "<div>\n<style scoped>\n    .dataframe tbody tr th:only-of-type {\n        vertical-align: middle;\n    }\n\n    .dataframe tbody tr th {\n        vertical-align: top;\n    }\n\n    .dataframe thead th {\n        text-align: right;\n    }\n</style>\n<table border=\"1\" class=\"dataframe\">\n  <thead>\n    <tr style=\"text-align: right;\">\n      <th></th>\n      <th>metki</th>\n      <th>texts</th>\n    </tr>\n  </thead>\n  <tbody>\n    <tr>\n      <th>0</th>\n      <td>ham</td>\n      <td>Go until jurong point, crazy.. Available only ...</td>\n    </tr>\n    <tr>\n      <th>1</th>\n      <td>ham</td>\n      <td>Ok lar... Joking wif u oni...</td>\n    </tr>\n    <tr>\n      <th>2</th>\n      <td>spam</td>\n      <td>Free entry in 2 a wkly comp to win FA Cup fina...</td>\n    </tr>\n    <tr>\n      <th>3</th>\n      <td>ham</td>\n      <td>U dun say so early hor... U c already then say...</td>\n    </tr>\n    <tr>\n      <th>4</th>\n      <td>ham</td>\n      <td>Nah I don't think he goes to usf, he lives aro...</td>\n    </tr>\n    <tr>\n      <th>5</th>\n      <td>spam</td>\n      <td>FreeMsg Hey there darling it's been 3 week's n...</td>\n    </tr>\n    <tr>\n      <th>6</th>\n      <td>ham</td>\n      <td>Even my brother is not like to speak with me. ...</td>\n    </tr>\n    <tr>\n      <th>7</th>\n      <td>ham</td>\n      <td>As per your request 'Melle Melle (Oru Minnamin...</td>\n    </tr>\n    <tr>\n      <th>8</th>\n      <td>spam</td>\n      <td>WINNER!! As a valued network customer you have...</td>\n    </tr>\n    <tr>\n      <th>9</th>\n      <td>spam</td>\n      <td>Had your mobile 11 months or more? U R entitle...</td>\n    </tr>\n    <tr>\n      <th>10</th>\n      <td>ham</td>\n      <td>I'm gonna be home soon and i don't want to tal...</td>\n    </tr>\n    <tr>\n      <th>11</th>\n      <td>spam</td>\n      <td>SIX chances to win CASH! From 100 to 20,000 po...</td>\n    </tr>\n    <tr>\n      <th>12</th>\n      <td>spam</td>\n      <td>URGENT! You have won a 1 week FREE membership ...</td>\n    </tr>\n    <tr>\n      <th>13</th>\n      <td>ham</td>\n      <td>I've been searching for the right words to tha...</td>\n    </tr>\n    <tr>\n      <th>14</th>\n      <td>ham</td>\n      <td>I HAVE A DATE ON SUNDAY WITH WILL!!</td>\n    </tr>\n    <tr>\n      <th>15</th>\n      <td>spam</td>\n      <td>XXXMobileMovieClub: To use your credit, click ...</td>\n    </tr>\n    <tr>\n      <th>16</th>\n      <td>ham</td>\n      <td>Oh k...i'm watching here:)</td>\n    </tr>\n    <tr>\n      <th>17</th>\n      <td>ham</td>\n      <td>Eh u remember how 2 spell his name... Yes i di...</td>\n    </tr>\n    <tr>\n      <th>18</th>\n      <td>ham</td>\n      <td>Fine if thats the way u feel. Thats the way ...</td>\n    </tr>\n    <tr>\n      <th>19</th>\n      <td>spam</td>\n      <td>England v Macedonia - dont miss the goals/team...</td>\n    </tr>\n    <tr>\n      <th>20</th>\n      <td>ham</td>\n      <td>Is that seriously how you spell his name?</td>\n    </tr>\n    <tr>\n      <th>21</th>\n      <td>ham</td>\n      <td>I‘m going to try for 2 months ha ha only joking</td>\n    </tr>\n    <tr>\n      <th>22</th>\n      <td>ham</td>\n      <td>So ü pay first lar... Then when is da stock co...</td>\n    </tr>\n    <tr>\n      <th>23</th>\n      <td>ham</td>\n      <td>Aft i finish my lunch then i go str down lor. ...</td>\n    </tr>\n    <tr>\n      <th>24</th>\n      <td>ham</td>\n      <td>Ffffffffff. Alright no way I can meet up with ...</td>\n    </tr>\n    <tr>\n      <th>25</th>\n      <td>ham</td>\n      <td>Just forced myself to eat a slice. I'm really ...</td>\n    </tr>\n    <tr>\n      <th>26</th>\n      <td>ham</td>\n      <td>Lol your always so convincing.</td>\n    </tr>\n    <tr>\n      <th>27</th>\n      <td>ham</td>\n      <td>Did you catch the bus ? Are you frying an egg ...</td>\n    </tr>\n    <tr>\n      <th>28</th>\n      <td>ham</td>\n      <td>I'm back &amp;amp; we're packing the car now, I'll...</td>\n    </tr>\n    <tr>\n      <th>29</th>\n      <td>ham</td>\n      <td>Ahhh. Work. I vaguely remember that! What does...</td>\n    </tr>\n    <tr>\n      <th>...</th>\n      <td>...</td>\n      <td>...</td>\n    </tr>\n    <tr>\n      <th>5544</th>\n      <td>ham</td>\n      <td>Armand says get your ass over to epsilon</td>\n    </tr>\n    <tr>\n      <th>5545</th>\n      <td>ham</td>\n      <td>U still havent got urself a jacket ah?</td>\n    </tr>\n    <tr>\n      <th>5546</th>\n      <td>ham</td>\n      <td>I'm taking derek &amp;amp; taylor to walmart, if I...</td>\n    </tr>\n    <tr>\n      <th>5547</th>\n      <td>ham</td>\n      <td>Hi its in durban are you still on this number</td>\n    </tr>\n    <tr>\n      <th>5548</th>\n      <td>ham</td>\n      <td>Ic. There are a lotta childporn cars then.</td>\n    </tr>\n    <tr>\n      <th>5549</th>\n      <td>spam</td>\n      <td>Had your contract mobile 11 Mnths? Latest Moto...</td>\n    </tr>\n    <tr>\n      <th>5550</th>\n      <td>ham</td>\n      <td>No, I was trying it all weekend ;V</td>\n    </tr>\n    <tr>\n      <th>5551</th>\n      <td>ham</td>\n      <td>You know, wot people wear. T shirts, jumpers, ...</td>\n    </tr>\n    <tr>\n      <th>5552</th>\n      <td>ham</td>\n      <td>Cool, what time you think you can get here?</td>\n    </tr>\n    <tr>\n      <th>5553</th>\n      <td>ham</td>\n      <td>Wen did you get so spiritual and deep. That's ...</td>\n    </tr>\n    <tr>\n      <th>5554</th>\n      <td>ham</td>\n      <td>Have a safe trip to Nigeria. Wish you happines...</td>\n    </tr>\n    <tr>\n      <th>5555</th>\n      <td>ham</td>\n      <td>Hahaha..use your brain dear</td>\n    </tr>\n    <tr>\n      <th>5556</th>\n      <td>ham</td>\n      <td>Well keep in mind I've only got enough gas for...</td>\n    </tr>\n    <tr>\n      <th>5557</th>\n      <td>ham</td>\n      <td>Yeh. Indians was nice. Tho it did kane me off ...</td>\n    </tr>\n    <tr>\n      <th>5558</th>\n      <td>ham</td>\n      <td>Yes i have. So that's why u texted. Pshew...mi...</td>\n    </tr>\n    <tr>\n      <th>5559</th>\n      <td>ham</td>\n      <td>No. I meant the calculation is the same. That ...</td>\n    </tr>\n    <tr>\n      <th>5560</th>\n      <td>ham</td>\n      <td>Sorry, I'll call later</td>\n    </tr>\n    <tr>\n      <th>5561</th>\n      <td>ham</td>\n      <td>if you aren't here in the next  &amp;lt;#&amp;gt;  hou...</td>\n    </tr>\n    <tr>\n      <th>5562</th>\n      <td>ham</td>\n      <td>Anything lor. Juz both of us lor.</td>\n    </tr>\n    <tr>\n      <th>5563</th>\n      <td>ham</td>\n      <td>Get me out of this dump heap. My mom decided t...</td>\n    </tr>\n    <tr>\n      <th>5564</th>\n      <td>ham</td>\n      <td>Ok lor... Sony ericsson salesman... I ask shuh...</td>\n    </tr>\n    <tr>\n      <th>5565</th>\n      <td>ham</td>\n      <td>Ard 6 like dat lor.</td>\n    </tr>\n    <tr>\n      <th>5566</th>\n      <td>ham</td>\n      <td>Why don't you wait 'til at least wednesday to ...</td>\n    </tr>\n    <tr>\n      <th>5567</th>\n      <td>ham</td>\n      <td>Huh y lei...</td>\n    </tr>\n    <tr>\n      <th>5568</th>\n      <td>spam</td>\n      <td>REMINDER FROM O2: To get 2.50 pounds free call...</td>\n    </tr>\n    <tr>\n      <th>5569</th>\n      <td>spam</td>\n      <td>This is the 2nd time we have tried 2 contact u...</td>\n    </tr>\n    <tr>\n      <th>5570</th>\n      <td>ham</td>\n      <td>Will ü b going to esplanade fr home?</td>\n    </tr>\n    <tr>\n      <th>5571</th>\n      <td>ham</td>\n      <td>Pity, * was in mood for that. So...any other s...</td>\n    </tr>\n    <tr>\n      <th>5572</th>\n      <td>ham</td>\n      <td>The guy did some bitching but I acted like i'd...</td>\n    </tr>\n    <tr>\n      <th>5573</th>\n      <td>ham</td>\n      <td>Rofl. Its true to its name</td>\n    </tr>\n  </tbody>\n</table>\n<p>5574 rows × 2 columns</p>\n</div>"
     },
     "metadata": {},
     "execution_count": 5
    }
   ],
   "source": [
    "df = pd.DataFrame()\n",
    "df['metki'] = metki\n",
    "df['texts'] = texts\n",
    "df"
   ]
  },
  {
   "cell_type": "code",
   "execution_count": 6,
   "metadata": {},
   "outputs": [
    {
     "output_type": "execute_result",
     "data": {
      "text/plain": [
       "     metki                                              texts  metki_fct\n",
       "0      ham  Go until jurong point, crazy.. Available only ...          0\n",
       "1      ham                      Ok lar... Joking wif u oni...          0\n",
       "2     spam  Free entry in 2 a wkly comp to win FA Cup fina...          1\n",
       "3      ham  U dun say so early hor... U c already then say...          0\n",
       "4      ham  Nah I don't think he goes to usf, he lives aro...          0\n",
       "5     spam  FreeMsg Hey there darling it's been 3 week's n...          1\n",
       "6      ham  Even my brother is not like to speak with me. ...          0\n",
       "7      ham  As per your request 'Melle Melle (Oru Minnamin...          0\n",
       "8     spam  WINNER!! As a valued network customer you have...          1\n",
       "9     spam  Had your mobile 11 months or more? U R entitle...          1\n",
       "10     ham  I'm gonna be home soon and i don't want to tal...          0\n",
       "11    spam  SIX chances to win CASH! From 100 to 20,000 po...          1\n",
       "12    spam  URGENT! You have won a 1 week FREE membership ...          1\n",
       "13     ham  I've been searching for the right words to tha...          0\n",
       "14     ham                I HAVE A DATE ON SUNDAY WITH WILL!!          0\n",
       "15    spam  XXXMobileMovieClub: To use your credit, click ...          1\n",
       "16     ham                         Oh k...i'm watching here:)          0\n",
       "17     ham  Eh u remember how 2 spell his name... Yes i di...          0\n",
       "18     ham  Fine if thats the way u feel. Thats the way ...          0\n",
       "19    spam  England v Macedonia - dont miss the goals/team...          1\n",
       "20     ham          Is that seriously how you spell his name?          0\n",
       "21     ham    I‘m going to try for 2 months ha ha only joking          0\n",
       "22     ham  So ü pay first lar... Then when is da stock co...          0\n",
       "23     ham  Aft i finish my lunch then i go str down lor. ...          0\n",
       "24     ham  Ffffffffff. Alright no way I can meet up with ...          0\n",
       "25     ham  Just forced myself to eat a slice. I'm really ...          0\n",
       "26     ham                     Lol your always so convincing.          0\n",
       "27     ham  Did you catch the bus ? Are you frying an egg ...          0\n",
       "28     ham  I'm back &amp; we're packing the car now, I'll...          0\n",
       "29     ham  Ahhh. Work. I vaguely remember that! What does...          0\n",
       "...    ...                                                ...        ...\n",
       "5544   ham           Armand says get your ass over to epsilon          0\n",
       "5545   ham             U still havent got urself a jacket ah?          0\n",
       "5546   ham  I'm taking derek &amp; taylor to walmart, if I...          0\n",
       "5547   ham      Hi its in durban are you still on this number          0\n",
       "5548   ham         Ic. There are a lotta childporn cars then.          0\n",
       "5549  spam  Had your contract mobile 11 Mnths? Latest Moto...          1\n",
       "5550   ham                 No, I was trying it all weekend ;V          0\n",
       "5551   ham  You know, wot people wear. T shirts, jumpers, ...          0\n",
       "5552   ham        Cool, what time you think you can get here?          0\n",
       "5553   ham  Wen did you get so spiritual and deep. That's ...          0\n",
       "5554   ham  Have a safe trip to Nigeria. Wish you happines...          0\n",
       "5555   ham                        Hahaha..use your brain dear          0\n",
       "5556   ham  Well keep in mind I've only got enough gas for...          0\n",
       "5557   ham  Yeh. Indians was nice. Tho it did kane me off ...          0\n",
       "5558   ham  Yes i have. So that's why u texted. Pshew...mi...          0\n",
       "5559   ham  No. I meant the calculation is the same. That ...          0\n",
       "5560   ham                             Sorry, I'll call later          0\n",
       "5561   ham  if you aren't here in the next  &lt;#&gt;  hou...          0\n",
       "5562   ham                  Anything lor. Juz both of us lor.          0\n",
       "5563   ham  Get me out of this dump heap. My mom decided t...          0\n",
       "5564   ham  Ok lor... Sony ericsson salesman... I ask shuh...          0\n",
       "5565   ham                                Ard 6 like dat lor.          0\n",
       "5566   ham  Why don't you wait 'til at least wednesday to ...          0\n",
       "5567   ham                                       Huh y lei...          0\n",
       "5568  spam  REMINDER FROM O2: To get 2.50 pounds free call...          1\n",
       "5569  spam  This is the 2nd time we have tried 2 contact u...          1\n",
       "5570   ham               Will ü b going to esplanade fr home?          0\n",
       "5571   ham  Pity, * was in mood for that. So...any other s...          0\n",
       "5572   ham  The guy did some bitching but I acted like i'd...          0\n",
       "5573   ham                         Rofl. Its true to its name          0\n",
       "\n",
       "[5574 rows x 3 columns]"
      ],
      "text/html": "<div>\n<style scoped>\n    .dataframe tbody tr th:only-of-type {\n        vertical-align: middle;\n    }\n\n    .dataframe tbody tr th {\n        vertical-align: top;\n    }\n\n    .dataframe thead th {\n        text-align: right;\n    }\n</style>\n<table border=\"1\" class=\"dataframe\">\n  <thead>\n    <tr style=\"text-align: right;\">\n      <th></th>\n      <th>metki</th>\n      <th>texts</th>\n      <th>metki_fct</th>\n    </tr>\n  </thead>\n  <tbody>\n    <tr>\n      <th>0</th>\n      <td>ham</td>\n      <td>Go until jurong point, crazy.. Available only ...</td>\n      <td>0</td>\n    </tr>\n    <tr>\n      <th>1</th>\n      <td>ham</td>\n      <td>Ok lar... Joking wif u oni...</td>\n      <td>0</td>\n    </tr>\n    <tr>\n      <th>2</th>\n      <td>spam</td>\n      <td>Free entry in 2 a wkly comp to win FA Cup fina...</td>\n      <td>1</td>\n    </tr>\n    <tr>\n      <th>3</th>\n      <td>ham</td>\n      <td>U dun say so early hor... U c already then say...</td>\n      <td>0</td>\n    </tr>\n    <tr>\n      <th>4</th>\n      <td>ham</td>\n      <td>Nah I don't think he goes to usf, he lives aro...</td>\n      <td>0</td>\n    </tr>\n    <tr>\n      <th>5</th>\n      <td>spam</td>\n      <td>FreeMsg Hey there darling it's been 3 week's n...</td>\n      <td>1</td>\n    </tr>\n    <tr>\n      <th>6</th>\n      <td>ham</td>\n      <td>Even my brother is not like to speak with me. ...</td>\n      <td>0</td>\n    </tr>\n    <tr>\n      <th>7</th>\n      <td>ham</td>\n      <td>As per your request 'Melle Melle (Oru Minnamin...</td>\n      <td>0</td>\n    </tr>\n    <tr>\n      <th>8</th>\n      <td>spam</td>\n      <td>WINNER!! As a valued network customer you have...</td>\n      <td>1</td>\n    </tr>\n    <tr>\n      <th>9</th>\n      <td>spam</td>\n      <td>Had your mobile 11 months or more? U R entitle...</td>\n      <td>1</td>\n    </tr>\n    <tr>\n      <th>10</th>\n      <td>ham</td>\n      <td>I'm gonna be home soon and i don't want to tal...</td>\n      <td>0</td>\n    </tr>\n    <tr>\n      <th>11</th>\n      <td>spam</td>\n      <td>SIX chances to win CASH! From 100 to 20,000 po...</td>\n      <td>1</td>\n    </tr>\n    <tr>\n      <th>12</th>\n      <td>spam</td>\n      <td>URGENT! You have won a 1 week FREE membership ...</td>\n      <td>1</td>\n    </tr>\n    <tr>\n      <th>13</th>\n      <td>ham</td>\n      <td>I've been searching for the right words to tha...</td>\n      <td>0</td>\n    </tr>\n    <tr>\n      <th>14</th>\n      <td>ham</td>\n      <td>I HAVE A DATE ON SUNDAY WITH WILL!!</td>\n      <td>0</td>\n    </tr>\n    <tr>\n      <th>15</th>\n      <td>spam</td>\n      <td>XXXMobileMovieClub: To use your credit, click ...</td>\n      <td>1</td>\n    </tr>\n    <tr>\n      <th>16</th>\n      <td>ham</td>\n      <td>Oh k...i'm watching here:)</td>\n      <td>0</td>\n    </tr>\n    <tr>\n      <th>17</th>\n      <td>ham</td>\n      <td>Eh u remember how 2 spell his name... Yes i di...</td>\n      <td>0</td>\n    </tr>\n    <tr>\n      <th>18</th>\n      <td>ham</td>\n      <td>Fine if thats the way u feel. Thats the way ...</td>\n      <td>0</td>\n    </tr>\n    <tr>\n      <th>19</th>\n      <td>spam</td>\n      <td>England v Macedonia - dont miss the goals/team...</td>\n      <td>1</td>\n    </tr>\n    <tr>\n      <th>20</th>\n      <td>ham</td>\n      <td>Is that seriously how you spell his name?</td>\n      <td>0</td>\n    </tr>\n    <tr>\n      <th>21</th>\n      <td>ham</td>\n      <td>I‘m going to try for 2 months ha ha only joking</td>\n      <td>0</td>\n    </tr>\n    <tr>\n      <th>22</th>\n      <td>ham</td>\n      <td>So ü pay first lar... Then when is da stock co...</td>\n      <td>0</td>\n    </tr>\n    <tr>\n      <th>23</th>\n      <td>ham</td>\n      <td>Aft i finish my lunch then i go str down lor. ...</td>\n      <td>0</td>\n    </tr>\n    <tr>\n      <th>24</th>\n      <td>ham</td>\n      <td>Ffffffffff. Alright no way I can meet up with ...</td>\n      <td>0</td>\n    </tr>\n    <tr>\n      <th>25</th>\n      <td>ham</td>\n      <td>Just forced myself to eat a slice. I'm really ...</td>\n      <td>0</td>\n    </tr>\n    <tr>\n      <th>26</th>\n      <td>ham</td>\n      <td>Lol your always so convincing.</td>\n      <td>0</td>\n    </tr>\n    <tr>\n      <th>27</th>\n      <td>ham</td>\n      <td>Did you catch the bus ? Are you frying an egg ...</td>\n      <td>0</td>\n    </tr>\n    <tr>\n      <th>28</th>\n      <td>ham</td>\n      <td>I'm back &amp;amp; we're packing the car now, I'll...</td>\n      <td>0</td>\n    </tr>\n    <tr>\n      <th>29</th>\n      <td>ham</td>\n      <td>Ahhh. Work. I vaguely remember that! What does...</td>\n      <td>0</td>\n    </tr>\n    <tr>\n      <th>...</th>\n      <td>...</td>\n      <td>...</td>\n      <td>...</td>\n    </tr>\n    <tr>\n      <th>5544</th>\n      <td>ham</td>\n      <td>Armand says get your ass over to epsilon</td>\n      <td>0</td>\n    </tr>\n    <tr>\n      <th>5545</th>\n      <td>ham</td>\n      <td>U still havent got urself a jacket ah?</td>\n      <td>0</td>\n    </tr>\n    <tr>\n      <th>5546</th>\n      <td>ham</td>\n      <td>I'm taking derek &amp;amp; taylor to walmart, if I...</td>\n      <td>0</td>\n    </tr>\n    <tr>\n      <th>5547</th>\n      <td>ham</td>\n      <td>Hi its in durban are you still on this number</td>\n      <td>0</td>\n    </tr>\n    <tr>\n      <th>5548</th>\n      <td>ham</td>\n      <td>Ic. There are a lotta childporn cars then.</td>\n      <td>0</td>\n    </tr>\n    <tr>\n      <th>5549</th>\n      <td>spam</td>\n      <td>Had your contract mobile 11 Mnths? Latest Moto...</td>\n      <td>1</td>\n    </tr>\n    <tr>\n      <th>5550</th>\n      <td>ham</td>\n      <td>No, I was trying it all weekend ;V</td>\n      <td>0</td>\n    </tr>\n    <tr>\n      <th>5551</th>\n      <td>ham</td>\n      <td>You know, wot people wear. T shirts, jumpers, ...</td>\n      <td>0</td>\n    </tr>\n    <tr>\n      <th>5552</th>\n      <td>ham</td>\n      <td>Cool, what time you think you can get here?</td>\n      <td>0</td>\n    </tr>\n    <tr>\n      <th>5553</th>\n      <td>ham</td>\n      <td>Wen did you get so spiritual and deep. That's ...</td>\n      <td>0</td>\n    </tr>\n    <tr>\n      <th>5554</th>\n      <td>ham</td>\n      <td>Have a safe trip to Nigeria. Wish you happines...</td>\n      <td>0</td>\n    </tr>\n    <tr>\n      <th>5555</th>\n      <td>ham</td>\n      <td>Hahaha..use your brain dear</td>\n      <td>0</td>\n    </tr>\n    <tr>\n      <th>5556</th>\n      <td>ham</td>\n      <td>Well keep in mind I've only got enough gas for...</td>\n      <td>0</td>\n    </tr>\n    <tr>\n      <th>5557</th>\n      <td>ham</td>\n      <td>Yeh. Indians was nice. Tho it did kane me off ...</td>\n      <td>0</td>\n    </tr>\n    <tr>\n      <th>5558</th>\n      <td>ham</td>\n      <td>Yes i have. So that's why u texted. Pshew...mi...</td>\n      <td>0</td>\n    </tr>\n    <tr>\n      <th>5559</th>\n      <td>ham</td>\n      <td>No. I meant the calculation is the same. That ...</td>\n      <td>0</td>\n    </tr>\n    <tr>\n      <th>5560</th>\n      <td>ham</td>\n      <td>Sorry, I'll call later</td>\n      <td>0</td>\n    </tr>\n    <tr>\n      <th>5561</th>\n      <td>ham</td>\n      <td>if you aren't here in the next  &amp;lt;#&amp;gt;  hou...</td>\n      <td>0</td>\n    </tr>\n    <tr>\n      <th>5562</th>\n      <td>ham</td>\n      <td>Anything lor. Juz both of us lor.</td>\n      <td>0</td>\n    </tr>\n    <tr>\n      <th>5563</th>\n      <td>ham</td>\n      <td>Get me out of this dump heap. My mom decided t...</td>\n      <td>0</td>\n    </tr>\n    <tr>\n      <th>5564</th>\n      <td>ham</td>\n      <td>Ok lor... Sony ericsson salesman... I ask shuh...</td>\n      <td>0</td>\n    </tr>\n    <tr>\n      <th>5565</th>\n      <td>ham</td>\n      <td>Ard 6 like dat lor.</td>\n      <td>0</td>\n    </tr>\n    <tr>\n      <th>5566</th>\n      <td>ham</td>\n      <td>Why don't you wait 'til at least wednesday to ...</td>\n      <td>0</td>\n    </tr>\n    <tr>\n      <th>5567</th>\n      <td>ham</td>\n      <td>Huh y lei...</td>\n      <td>0</td>\n    </tr>\n    <tr>\n      <th>5568</th>\n      <td>spam</td>\n      <td>REMINDER FROM O2: To get 2.50 pounds free call...</td>\n      <td>1</td>\n    </tr>\n    <tr>\n      <th>5569</th>\n      <td>spam</td>\n      <td>This is the 2nd time we have tried 2 contact u...</td>\n      <td>1</td>\n    </tr>\n    <tr>\n      <th>5570</th>\n      <td>ham</td>\n      <td>Will ü b going to esplanade fr home?</td>\n      <td>0</td>\n    </tr>\n    <tr>\n      <th>5571</th>\n      <td>ham</td>\n      <td>Pity, * was in mood for that. So...any other s...</td>\n      <td>0</td>\n    </tr>\n    <tr>\n      <th>5572</th>\n      <td>ham</td>\n      <td>The guy did some bitching but I acted like i'd...</td>\n      <td>0</td>\n    </tr>\n    <tr>\n      <th>5573</th>\n      <td>ham</td>\n      <td>Rofl. Its true to its name</td>\n      <td>0</td>\n    </tr>\n  </tbody>\n</table>\n<p>5574 rows × 3 columns</p>\n</div>"
     },
     "metadata": {},
     "execution_count": 6
    }
   ],
   "source": [
    "df['metki_fct'] = df['metki'].factorize()[0]\n",
    "df"
   ]
  },
  {
   "cell_type": "markdown",
   "metadata": {},
   "source": [
    "4. Используя sklearn.feature_extraction.text.CountVectorizer со стандартными настройками, получите из списка текстов матрицу признаков X."
   ]
  },
  {
   "cell_type": "code",
   "execution_count": 7,
   "metadata": {},
   "outputs": [
    {
     "output_type": "stream",
     "name": "stdout",
     "text": [
      "['ahhhh', 'ahmad', 'ahold', 'aid', 'aids', 'aig', 'aight', 'ain', 'aint', 'air', 'air1', 'airport', 'airtel', 'aiya', 'aiyah', 'aiyar', 'aiyo', 'ajith', 'ak', 'aka', 'akon', 'al', 'alaikkum', 'alaipayuthe', 'albi', 'album', 'alcohol', 'aldrine', 'alert', 'alertfrom', 'alerts', 'aletter', 'alex', 'alfie', 'algarve', 'algebra', 'algorithms', 'ali', 'alian', 'alibi', 'alive', 'all', 'allah', 'allalo', 'allday', 'alle', 'allo', 'allow', 'allowed', 'allows', 'almost', 'alone', 'along', 'alot', 'already', 'alright', 'alrite', 'also', 'alter', 'alternative', 'although', 'alto18', 'aluable', 'alwa', 'always', 'alwys', 'am', 'amanda', 'amazing', 'ambitious', 'ambrith', 'american', 'ami', 'amigos', 'amk', 'amla', 'amma', 'ammae', 'ammo', 'amnow', 'among', 'amongst', 'amore', 'amount', 'amp', 'amplikater', 'amrca', 'amrita', 'ams', 'amt', 'amused', 'amy', 'an', 'ana', 'anal', 'analysis', 'anand', 'and', 'anderson', 'andre']\n(5574, 8713) [[0 0 0 ... 0 0 0]\n [0 0 0 ... 0 0 0]\n [0 0 0 ... 0 0 0]\n ...\n [0 0 0 ... 0 0 0]\n [0 0 0 ... 0 0 0]\n [0 0 0 ... 0 0 0]]\n"
     ]
    }
   ],
   "source": [
    "from sklearn.feature_extraction.text import CountVectorizer\n",
    "txts = CountVectorizer()\n",
    "X = txts.fit_transform(df['texts'])\n",
    "print(txts.get_feature_names()[1000:1100])\n",
    "print(X.shape, X.toarray())"
   ]
  },
  {
   "cell_type": "markdown",
   "metadata": {},
   "source": [
    "5. Оцените качество классификации текстов с помощью LogisticRegression() с параметрами по умолчанию, используя sklearn.cross_validation.cross_val_score и посчитав среднее арифметическое качества на отдельных fold'ах. Установите random_state=2. Параметр cv задайте равным 10. В качестве метрики качества используйте f1-меру. Получившееся качество - один из ответов, которые потребуются при сдаче задания. Ответ округлить до 1 знака после запятой."
   ]
  },
  {
   "cell_type": "code",
   "execution_count": 8,
   "metadata": {},
   "outputs": [
    {
     "output_type": "execute_result",
     "data": {
      "text/plain": [
       "0.9"
      ]
     },
     "metadata": {},
     "execution_count": 8
    }
   ],
   "source": [
    "from sklearn.linear_model import LogisticRegression\n",
    "from sklearn.model_selection import cross_val_score\n",
    "\n",
    "LR = LogisticRegression(random_state=2)\n",
    "scores = cross_val_score(LR, X, df['metki_fct'], cv=10,scoring='f1')\n",
    "answer1 = round(scores.mean(),1)\n",
    "answer1"
   ]
  },
  {
   "cell_type": "markdown",
   "metadata": {},
   "source": [
    "6. А теперь обучите классификатор на всей выборке и спрогнозируйте с его помощью класс для следующих сообщений:\n",
    "\n",
    "\"FreeMsg: Txt: CALL to No: 86888 & claim your reward of 3 hours talk time to use from your phone now! Subscribe6GB\"\n",
    "\n",
    "\"FreeMsg: Txt: claim your reward of 3 hours talk time\"\n",
    "\n",
    "\"Have you visited the last lecture on physics?\"\n",
    "\n",
    "\"Have you visited the last lecture on physics? Just buy this book and you will have all materials! Only 99$\"\n",
    "\n",
    "\"Only 99$\"\n",
    "\n",
    "Прогнозы классификатора (0 - не спам, 1 - спам), записанные через пробел, будут ответом в одном из вопросов ниже."
   ]
  },
  {
   "cell_type": "code",
   "execution_count": 9,
   "metadata": {},
   "outputs": [],
   "source": [
    "new_msg = [\"FreeMsg: Txt: CALL to No: 86888 & claim your reward of 3 hours talk time to use from your phone now! Subscribe6GB\",\n",
    "           \"FreeMsg: Txt: claim your reward of 3 hours talk time\",\n",
    "           \"Have you visited the last lecture on physics?\",\n",
    "           \"Have you visited the last lecture on physics? Just buy this book and you will have all materials! Only 99$\",\n",
    "           \"Only 99$\"]"
   ]
  },
  {
   "cell_type": "code",
   "execution_count": 10,
   "metadata": {},
   "outputs": [
    {
     "output_type": "execute_result",
     "data": {
      "text/plain": [
       "LogisticRegression(C=1.0, class_weight=None, dual=False, fit_intercept=True,\n",
       "                   intercept_scaling=1, l1_ratio=None, max_iter=100,\n",
       "                   multi_class='warn', n_jobs=None, penalty='l2',\n",
       "                   random_state=2, solver='warn', tol=0.0001, verbose=0,\n",
       "                   warm_start=False)"
      ]
     },
     "metadata": {},
     "execution_count": 10
    }
   ],
   "source": [
    "LR.fit(X,df['metki_fct'])"
   ]
  },
  {
   "cell_type": "code",
   "execution_count": 11,
   "metadata": {},
   "outputs": [
    {
     "output_type": "execute_result",
     "data": {
      "text/plain": [
       "[1, 1, 0, 0, 0]"
      ]
     },
     "metadata": {},
     "execution_count": 11
    }
   ],
   "source": [
    "answer2 = []\n",
    "for i in new_msg:\n",
    "    answer2 += [int(LR.predict(txts.transform([i])))]\n",
    "answer2"
   ]
  },
  {
   "cell_type": "markdown",
   "metadata": {},
   "source": [
    "7. Задайте в CountVectorizer параметр ngram_range=(2,2), затем ngram_range=(3,3), затем ngram_range=(1,3). Во всех трех случаях измерьте получившееся в кросс-валидации значение f1-меры, округлите до второго знака после точки, и выпишете результаты через пробел в том же порядке. В данном эксперименте мы пробовали добавлять в признаки n-граммы для разных диапазонов n - только биграммы, только триграммы, и, наконец, все вместе - униграммы, биграммы и триграммы. Обратите внимание, что статистики по биграммам и триграммам намного меньше, поэтому классификатор только на них работает хуже. В то же время это не ухудшает результат сколько-нибудь существенно, если добавлять их вместе с униграммами, т.к. за счет регуляризации линейный классификатор не склонен сильно переобучаться на этих признаках."
   ]
  },
  {
   "cell_type": "code",
   "execution_count": 12,
   "metadata": {},
   "outputs": [
    {
     "output_type": "execute_result",
     "data": {
      "text/plain": [
       "[0.82, 0.73, 0.93]"
      ]
     },
     "metadata": {},
     "execution_count": 12
    }
   ],
   "source": [
    "answer3 = []\n",
    "\n",
    "txts_22 = CountVectorizer(ngram_range=(2, 2))\n",
    "X_22 = txts_22.fit_transform(df['texts'])\n",
    "score_22 = cross_val_score(LR,X_22, df['metki_fct'], cv=10, scoring='f1')\n",
    "answer3 += [round(score_22.mean(),2)]\n",
    "\n",
    "txts_33 = CountVectorizer(ngram_range=(3, 3))\n",
    "X_33 = txts_33.fit_transform(df['texts'])\n",
    "score_33 = cross_val_score(LR,X_33, df['metki_fct'], cv=10, scoring='f1')\n",
    "answer3 += [round(score_33.mean(),2)]\n",
    "\n",
    "txts_13 = CountVectorizer(ngram_range=(1, 3))\n",
    "X_13 = txts_13.fit_transform(df['texts'])\n",
    "score_13 = cross_val_score(LR,X_13, df['metki_fct'], cv=10, scoring='f1')\n",
    "answer3 += [round(score_13.mean(),2)]\n",
    "\n",
    "answer3 # возможно так 0.82 0.72 0.92"
   ]
  },
  {
   "cell_type": "markdown",
   "metadata": {},
   "source": [
    "8. Повторите аналогичный п.7 эксперимент, используя вместо логистической регрессии MultinomialNB(). Обратите внимание, насколько сильнее (по сравнению с линейным классификатором) наивный Байес страдает от нехватки статистики по биграммам и триграммам.  \n",
    "\n",
    "По какой-то причине обучение наивного байесовского классификатора через Pipeline происходит с ошибкой. Чтобы получить правильный ответ, отдельно посчитайте частоты слов и обучите классификатор.\n",
    "\n"
   ]
  },
  {
   "cell_type": "code",
   "execution_count": 13,
   "metadata": {},
   "outputs": [
    {
     "output_type": "stream",
     "name": "stdout",
     "text": [
      "0.65\n",
      "0.38\n",
      "0.89\n"
     ]
    }
   ],
   "source": [
    "from sklearn.naive_bayes import MultinomialNB\n",
    "mnb = MultinomialNB()\n",
    "\n",
    "mnb_score_22 = cross_val_score(mnb,X_22, df['metki_fct'], cv=10, scoring='f1')\n",
    "print(round(mnb_score_22.mean(),2))\n",
    "\n",
    "mnb_score_33 = cross_val_score(mnb,X_33, df['metki_fct'], cv=10, scoring='f1')\n",
    "print(round(mnb_score_33.mean(),2))\n",
    "\n",
    "mnb_score_13 = cross_val_score(mnb,X_13, df['metki_fct'], cv=10, scoring='f1')\n",
    "print(round(mnb_score_13.mean(),2))\n",
    "answer4 = [round(mnb_score_22.mean(),2),round(mnb_score_33.mean(),2),round(mnb_score_13.mean(),2)]"
   ]
  },
  {
   "cell_type": "markdown",
   "metadata": {},
   "source": [
    "9. Попробуйте использовать в логистической регрессии в качестве признаков Tf*idf из TfidfVectorizer на униграммах. Повысилось или понизилось качество на кросс-валидации по сравнению с CountVectorizer на униграммах? (напишите в файле с ответом 1, если повысилось, -1, если понизилось, и 0, если изменилось не более чем на 0.01). Обратите внимание, что результат перехода к tf*idf не всегда будет таким - если вы наблюдаете какое-то явление на одном датасете, не надо сразу же его обобщать на любые данные."
   ]
  },
  {
   "cell_type": "code",
   "execution_count": 14,
   "metadata": {},
   "outputs": [],
   "source": [
    "from sklearn.feature_extraction.text import TfidfVectorizer"
   ]
  },
  {
   "cell_type": "code",
   "execution_count": 15,
   "metadata": {},
   "outputs": [],
   "source": [
    "tfidf = TfidfVectorizer()\n",
    "X_tfidf = tfidf.fit_transform(df['texts'])"
   ]
  },
  {
   "cell_type": "code",
   "execution_count": 16,
   "metadata": {},
   "outputs": [
    {
     "output_type": "execute_result",
     "data": {
      "text/plain": [
       "(5574, 8713)"
      ]
     },
     "metadata": {},
     "execution_count": 16
    }
   ],
   "source": [
    "X_tfidf.shape"
   ]
  },
  {
   "cell_type": "code",
   "execution_count": 17,
   "metadata": {},
   "outputs": [
    {
     "output_type": "stream",
     "name": "stdout",
     "text": [
      "0.9333485268579415 0.8528599554172456\n"
     ]
    }
   ],
   "source": [
    "LR = LogisticRegression(random_state=2)\n",
    "tfidf_scores = cross_val_score(LR, X_tfidf, df['metki_fct'], cv=10,scoring='f1')\n",
    "print(scores.mean(), tfidf_scores.mean())\n",
    "answer5 = '-1'"
   ]
  },
  {
   "cell_type": "code",
   "execution_count": 18,
   "metadata": {},
   "outputs": [
    {
     "output_type": "stream",
     "name": "stdout",
     "text": [
      "0.9\n[1, 1, 0, 0, 0]\n[0.82, 0.73, 0.93]\n[0.65, 0.38, 0.89]\n-1\n"
     ]
    }
   ],
   "source": [
    "def write_answer1(answer):\n",
    "    with open('answers/5.3. Text analysis_answer1.txt',\"w\") as fout:\n",
    "        fout.write(str(answer))\n",
    "write_answer1(answer1)\n",
    "        \n",
    "def write_answer2(answer):\n",
    "    with open('answers/5.3. Text analysis_answer2.txt',\"w\") as fout:\n",
    "        fout.write(' '.join(str(i) for i in answer))\n",
    "write_answer2(answer2)\n",
    "        \n",
    "def write_answer3(answer):\n",
    "    with open('answers/5.3. Text analysis_answer3.txt',\"w\") as fout:\n",
    "        fout.write(' '.join(str(i) for i in answer))\n",
    "write_answer3(answer3)\n",
    "        \n",
    "def write_answer4(answer):\n",
    "    with open('answers/5.3. Text analysis_answer4.txt',\"w\") as fout:\n",
    "        fout.write(' '.join(str(i) for i in answer))\n",
    "write_answer4(answer4)\n",
    "\n",
    "def write_answer5(answer):\n",
    "    with open('answers/5.3. Text analysis_answer5.txt',\"w\") as fout:\n",
    "        fout.write(str(answer))      \n",
    "write_answer5(answer5)\n",
    "\n",
    "print(answer1)\n",
    "print(answer2)\n",
    "print(answer3)\n",
    "print(answer4)\n",
    "print(answer5)"
   ]
  },
  {
   "cell_type": "code",
   "execution_count": null,
   "metadata": {},
   "outputs": [],
   "source": []
  }
 ],
 "metadata": {
  "kernelspec": {
   "display_name": "Python 3",
   "language": "python",
   "name": "python3"
  },
  "language_info": {
   "codemirror_mode": {
    "name": "ipython",
    "version": 3
   },
   "file_extension": ".py",
   "mimetype": "text/x-python",
   "name": "python",
   "nbconvert_exporter": "python",
   "pygments_lexer": "ipython3",
   "version": "3.6.8-final"
  }
 },
 "nbformat": 4,
 "nbformat_minor": 4
}