{
 "cells": [
  {
   "cell_type": "markdown",
   "metadata": {},
   "source": [
    "# Обнаружение статистически значимых отличий в уровнях экспрессии генов больных раком\n",
    "Это задание поможет вам лучше разобраться в методах множественной проверки гипотез и позволит применить ваши знания на данных из реального биологического исследования.\n",
    "\n",
    "#### В этом задании вы:\n",
    "\n",
    "вспомните, что такое t-критерий Стьюдента и для чего он применяется\n",
    "сможете применить технику множественной проверки гипотез и увидеть собственными глазами, как она работает на реальных данных\n",
    "почувствуете разницу в результатах применения различных методов поправки на множественную проверку\n",
    "\n",
    "## Основные библиотеки и используемые методы:\n",
    "\n",
    "Библиотека scipy и основные статистические функции:http://docs.scipy.org/doc/scipy/reference/stats.html#statistical-functions\n",
    "\n",
    "Библиотека statmodels для методов коррекции при множественном сравнении:\n",
    "\n",
    "http://statsmodels.sourceforge.net/devel/stats.html\n",
    "\n",
    "Статья, в которой рассматриваются примеры использования statsmodels для множественной проверки гипотез:\n",
    "\n",
    "http://jpktd.blogspot.ru/2013/04/multiple-testing-p-value-corrections-in.html\n",
    "\n",
    "## Описание используемых данных\n",
    "\n",
    "Данные для этой задачи взяты из исследования, проведенного в Stanford School of Medicine. В исследовании была предпринята попытка выявить набор генов, которые позволили бы более точно диагностировать возникновение рака груди на самых ранних стадиях.\n",
    "\n",
    "В эксперименте принимали участие 24 человек, у которых не было рака груди (normal), 25 человек, у которых это заболевание было диагностировано на ранней стадии (early neoplasia), и 23 человека с сильно выраженными симптомами (cancer).\n",
    "\n",
    "\n",
    "Ученые провели секвенирование биологического материала испытуемых, чтобы понять, какие из этих генов наиболее активны в клетках больных людей.\n",
    "\n",
    "Секвенирование — это определение степени активности генов в анализируемом образце с помощью подсчёта количества соответствующей каждому гену РНК.\n",
    "\n",
    "В данных для этого задания вы найдете именно эту количественную меру активности каждого из 15748 генов у каждого из 72 человек, принимавших участие в эксперименте.\n",
    "\n",
    "Вам нужно будет определить те гены, активность которых у людей в разных стадиях заболевания отличается статистически значимо.\n",
    "\n",
    "Кроме того, вам нужно будет оценить не только статистическую, но и практическую значимость этих результатов, которая часто используется в подобных исследованиях.\n",
    "\n",
    "Диагноз человека содержится в столбце под названием \"Diagnosis\".\n",
    "\n",
    "## Практическая значимость изменения\n",
    "\n",
    "Цель исследований — найти гены, средняя экспрессия которых отличается не только статистически значимо, но и достаточно сильно. В экспрессионных исследованиях для этого часто используется метрика, которая называется fold change (кратность изменения). Определяется она следующим образом:\n",
    "\n",
    "$$F_{c}(C,T) = \\begin{cases} \\frac{T}{C}, T>C \\\\ -\\frac{C}{T}, T<C \\end{cases}$$\n",
    "\n",
    "где C,T — средние значения экспрессии гена в control и treatment группах соответственно. По сути, fold change показывает, во сколько раз отличаются средние двух выборок.\n",
    "\n",
    "## Инструкции к решению задачи\n",
    "\n",
    "Задание состоит из трёх частей. Если не сказано обратное, то уровень значимости нужно принять равным 0.05.\n",
    "\n",
    "### Часть 1: применение t-критерия Стьюдента\n",
    "\n",
    "В первой части вам нужно будет применить критерий Стьюдента для проверки гипотезы о равенстве средних в двух независимых выборках. Применить критерий для каждого гена нужно будет дважды:\n",
    "\n",
    " * для групп **normal (control)** и **early neoplasia (treatment)**\n",
    " * для групп **early neoplasia (control)** и **cancer (treatment)**\n",
    "\n",
    "В качестве ответа в этой части задания необходимо указать количество статистически значимых отличий, которые вы нашли с помощью t-критерия Стьюдента, то есть число генов, у которых p-value этого теста оказался меньше, чем уровень значимости."
   ]
  },
  {
   "cell_type": "code",
   "execution_count": 1,
   "metadata": {},
   "outputs": [],
   "source": [
    "import pandas as pd\n",
    "import numpy as np\n",
    "import scipy.stats\n",
    "\n",
    "def write_answer_to_file(answer, filename):\n",
    "    with open(filename, 'w') as f_out:\n",
    "        f_out.write(str(answer))"
   ]
  },
  {
   "cell_type": "code",
   "execution_count": 2,
   "metadata": {},
   "outputs": [
    {
     "output_type": "execute_result",
     "data": {
      "text/plain": [
       "                  Patient_id Diagnosis  LOC643837  LOC100130417     SAMD11  \\\n",
       "0  STT5425_Breast_001_normal    normal   1.257614      2.408148  13.368622   \n",
       "1  STT5427_Breast_023_normal    normal   4.567931     16.602734  42.477752   \n",
       "2  STT5430_Breast_002_normal    normal   2.077597      3.978294  12.863214   \n",
       "3  STT5439_Breast_003_normal    normal   2.066576      8.520713  14.466035   \n",
       "4  STT5441_Breast_004_normal    normal   2.613616      3.434965  12.682222   \n",
       "\n",
       "       NOC2L     KLHL17    PLEKHN1   C1orf170       HES4  ...      CLIC2  \\\n",
       "0   9.494779  20.880435  12.722017   9.494779  54.349694  ...   4.761250   \n",
       "1  25.562376  23.221137  11.622386  14.330573  72.445474  ...   6.871902   \n",
       "2  13.728915  14.543176  14.141907   6.232790  57.011005  ...   7.096343   \n",
       "3   7.823932   8.520713   2.066576  10.870009  53.292034  ...   5.200770   \n",
       "4  10.543189  26.688686  12.484822   1.364917  67.140393  ...  11.227770   \n",
       "\n",
       "     RPS4Y1       ZFY      PRKY     USP9Y     DDX3Y       CD24  CYorf15B  \\\n",
       "0  1.257614  1.257614  1.257614  1.257614  1.257614  23.268694  1.257614   \n",
       "1  1.815112  1.815112  1.815112  1.815112  1.815112  10.427023  1.815112   \n",
       "2  2.077597  2.077597  2.077597  2.077597  2.077597  22.344226  2.077597   \n",
       "3  2.066576  2.066576  2.066576  2.066576  2.066576  49.295538  2.066576   \n",
       "4  1.364917  1.364917  1.364917  1.364917  1.364917  23.627911  1.364917   \n",
       "\n",
       "      KDM5D    EIF1AY  \n",
       "0  1.257614  1.257614  \n",
       "1  1.815112  1.815112  \n",
       "2  2.077597  2.077597  \n",
       "3  2.066576  2.066576  \n",
       "4  1.364917  1.364917  \n",
       "\n",
       "[5 rows x 15750 columns]"
      ],
      "text/html": "<div>\n<style scoped>\n    .dataframe tbody tr th:only-of-type {\n        vertical-align: middle;\n    }\n\n    .dataframe tbody tr th {\n        vertical-align: top;\n    }\n\n    .dataframe thead th {\n        text-align: right;\n    }\n</style>\n<table border=\"1\" class=\"dataframe\">\n  <thead>\n    <tr style=\"text-align: right;\">\n      <th></th>\n      <th>Patient_id</th>\n      <th>Diagnosis</th>\n      <th>LOC643837</th>\n      <th>LOC100130417</th>\n      <th>SAMD11</th>\n      <th>NOC2L</th>\n      <th>KLHL17</th>\n      <th>PLEKHN1</th>\n      <th>C1orf170</th>\n      <th>HES4</th>\n      <th>...</th>\n      <th>CLIC2</th>\n      <th>RPS4Y1</th>\n      <th>ZFY</th>\n      <th>PRKY</th>\n      <th>USP9Y</th>\n      <th>DDX3Y</th>\n      <th>CD24</th>\n      <th>CYorf15B</th>\n      <th>KDM5D</th>\n      <th>EIF1AY</th>\n    </tr>\n  </thead>\n  <tbody>\n    <tr>\n      <th>0</th>\n      <td>STT5425_Breast_001_normal</td>\n      <td>normal</td>\n      <td>1.257614</td>\n      <td>2.408148</td>\n      <td>13.368622</td>\n      <td>9.494779</td>\n      <td>20.880435</td>\n      <td>12.722017</td>\n      <td>9.494779</td>\n      <td>54.349694</td>\n      <td>...</td>\n      <td>4.761250</td>\n      <td>1.257614</td>\n      <td>1.257614</td>\n      <td>1.257614</td>\n      <td>1.257614</td>\n      <td>1.257614</td>\n      <td>23.268694</td>\n      <td>1.257614</td>\n      <td>1.257614</td>\n      <td>1.257614</td>\n    </tr>\n    <tr>\n      <th>1</th>\n      <td>STT5427_Breast_023_normal</td>\n      <td>normal</td>\n      <td>4.567931</td>\n      <td>16.602734</td>\n      <td>42.477752</td>\n      <td>25.562376</td>\n      <td>23.221137</td>\n      <td>11.622386</td>\n      <td>14.330573</td>\n      <td>72.445474</td>\n      <td>...</td>\n      <td>6.871902</td>\n      <td>1.815112</td>\n      <td>1.815112</td>\n      <td>1.815112</td>\n      <td>1.815112</td>\n      <td>1.815112</td>\n      <td>10.427023</td>\n      <td>1.815112</td>\n      <td>1.815112</td>\n      <td>1.815112</td>\n    </tr>\n    <tr>\n      <th>2</th>\n      <td>STT5430_Breast_002_normal</td>\n      <td>normal</td>\n      <td>2.077597</td>\n      <td>3.978294</td>\n      <td>12.863214</td>\n      <td>13.728915</td>\n      <td>14.543176</td>\n      <td>14.141907</td>\n      <td>6.232790</td>\n      <td>57.011005</td>\n      <td>...</td>\n      <td>7.096343</td>\n      <td>2.077597</td>\n      <td>2.077597</td>\n      <td>2.077597</td>\n      <td>2.077597</td>\n      <td>2.077597</td>\n      <td>22.344226</td>\n      <td>2.077597</td>\n      <td>2.077597</td>\n      <td>2.077597</td>\n    </tr>\n    <tr>\n      <th>3</th>\n      <td>STT5439_Breast_003_normal</td>\n      <td>normal</td>\n      <td>2.066576</td>\n      <td>8.520713</td>\n      <td>14.466035</td>\n      <td>7.823932</td>\n      <td>8.520713</td>\n      <td>2.066576</td>\n      <td>10.870009</td>\n      <td>53.292034</td>\n      <td>...</td>\n      <td>5.200770</td>\n      <td>2.066576</td>\n      <td>2.066576</td>\n      <td>2.066576</td>\n      <td>2.066576</td>\n      <td>2.066576</td>\n      <td>49.295538</td>\n      <td>2.066576</td>\n      <td>2.066576</td>\n      <td>2.066576</td>\n    </tr>\n    <tr>\n      <th>4</th>\n      <td>STT5441_Breast_004_normal</td>\n      <td>normal</td>\n      <td>2.613616</td>\n      <td>3.434965</td>\n      <td>12.682222</td>\n      <td>10.543189</td>\n      <td>26.688686</td>\n      <td>12.484822</td>\n      <td>1.364917</td>\n      <td>67.140393</td>\n      <td>...</td>\n      <td>11.227770</td>\n      <td>1.364917</td>\n      <td>1.364917</td>\n      <td>1.364917</td>\n      <td>1.364917</td>\n      <td>1.364917</td>\n      <td>23.627911</td>\n      <td>1.364917</td>\n      <td>1.364917</td>\n      <td>1.364917</td>\n    </tr>\n  </tbody>\n</table>\n<p>5 rows × 15750 columns</p>\n</div>"
     },
     "metadata": {},
     "execution_count": 2
    }
   ],
   "source": [
    "pd.options.display.max_rows = 100\n",
    "data = pd.read_csv('data/gene_high_throughput_sequencing.csv')\n",
    "data.head()"
   ]
  },
  {
   "cell_type": "markdown",
   "metadata": {},
   "source": [
    "###   Посчитаем вручную t-критерий Стюдента по формуле\n",
    "![Image](https://wikimedia.org/api/rest_v1/media/math/render/svg/67f95e04c3d8df149a1fd64c6e7126dd073fe135)"
   ]
  },
  {
   "cell_type": "code",
   "execution_count": 3,
   "metadata": {},
   "outputs": [
    {
     "output_type": "execute_result",
     "data": {
      "text/plain": [
       "               normal_X  early_neoplasia_X   cancer_X  normal_std  \\\n",
       "LOC643837      2.681277           2.510894   2.186060    1.508486   \n",
       "LOC100130417   4.368497           8.721781   8.190456    3.045372   \n",
       "SAMD11        15.159566          18.531325  23.692614    6.829965   \n",
       "\n",
       "              early_neoplasia_std  cancer_std  normal-neoplasia_hands_t  \n",
       "LOC643837                1.469398    1.257218                  0.396372  \n",
       "LOC100130417             3.555897    4.484989                 -4.555281  \n",
       "SAMD11                   5.269496   12.648352                 -1.914825  "
      ],
      "text/html": "<div>\n<style scoped>\n    .dataframe tbody tr th:only-of-type {\n        vertical-align: middle;\n    }\n\n    .dataframe tbody tr th {\n        vertical-align: top;\n    }\n\n    .dataframe thead th {\n        text-align: right;\n    }\n</style>\n<table border=\"1\" class=\"dataframe\">\n  <thead>\n    <tr style=\"text-align: right;\">\n      <th></th>\n      <th>normal_X</th>\n      <th>early_neoplasia_X</th>\n      <th>cancer_X</th>\n      <th>normal_std</th>\n      <th>early_neoplasia_std</th>\n      <th>cancer_std</th>\n      <th>normal-neoplasia_hands_t</th>\n    </tr>\n  </thead>\n  <tbody>\n    <tr>\n      <th>LOC643837</th>\n      <td>2.681277</td>\n      <td>2.510894</td>\n      <td>2.186060</td>\n      <td>1.508486</td>\n      <td>1.469398</td>\n      <td>1.257218</td>\n      <td>0.396372</td>\n    </tr>\n    <tr>\n      <th>LOC100130417</th>\n      <td>4.368497</td>\n      <td>8.721781</td>\n      <td>8.190456</td>\n      <td>3.045372</td>\n      <td>3.555897</td>\n      <td>4.484989</td>\n      <td>-4.555281</td>\n    </tr>\n    <tr>\n      <th>SAMD11</th>\n      <td>15.159566</td>\n      <td>18.531325</td>\n      <td>23.692614</td>\n      <td>6.829965</td>\n      <td>5.269496</td>\n      <td>12.648352</td>\n      <td>-1.914825</td>\n    </tr>\n  </tbody>\n</table>\n</div>"
     },
     "metadata": {},
     "execution_count": 3
    }
   ],
   "source": [
    "# data = data.drop(['Patient_id','Diagnosis'],axis=1)\n",
    "compare = pd.DataFrame()\n",
    "\n",
    "\n",
    "compare['normal_X'] = data[data['Diagnosis'].isin(['normal'])].mean()\n",
    "compare['early_neoplasia_X'] = data[data['Diagnosis'].isin(['early neoplasia'])].mean()\n",
    "compare['cancer_X'] = data[data['Diagnosis'].isin(['cancer'])].mean()\n",
    "\n",
    "compare['normal_std'] = data[data['Diagnosis'].isin(['normal'])].std()\n",
    "compare['early_neoplasia_std'] = data[data['Diagnosis'].isin(['early neoplasia'])].std()\n",
    "compare['cancer_std'] = data[data['Diagnosis'].isin(['cancer'])].std()\n",
    "compare['normal-neoplasia_hands_t'] = (compare['normal_X'] - compare['early_neoplasia_X'])/np.sqrt(((compare['normal_std']**2)/24) + ((compare['early_neoplasia_std']**2)/24))\n",
    "\n",
    "compare.head(3)"
   ]
  },
  {
   "cell_type": "code",
   "execution_count": 4,
   "metadata": {},
   "outputs": [
    {
     "output_type": "execute_result",
     "data": {
      "text/plain": [
       "               normal_X  early_neoplasia_X   cancer_X  normal_std  \\\n",
       "LOC643837      2.681277           2.510894   2.186060    1.508486   \n",
       "LOC100130417   4.368497           8.721781   8.190456    3.045372   \n",
       "SAMD11        15.159566          18.531325  23.692614    6.829965   \n",
       "\n",
       "              early_neoplasia_std  cancer_std  normal-neoplasia_hands_t  \\\n",
       "LOC643837                1.469398    1.257218                  0.396372   \n",
       "LOC100130417             3.555897    4.484989                 -4.555281   \n",
       "SAMD11                   5.269496   12.648352                 -1.914825   \n",
       "\n",
       "              normal-neoplasia_t  normal-neoplasia_p  neoplasia-cancer_t  \\\n",
       "LOC643837               0.400289            0.690766            0.824849   \n",
       "LOC100130417           -4.608766            0.000032            0.452236   \n",
       "SAMD11                 -1.929277            0.060273           -1.817266   \n",
       "\n",
       "              neoplasia-cancer_p  \n",
       "LOC643837               0.413735  \n",
       "LOC100130417            0.653429  \n",
       "SAMD11                  0.079556  "
      ],
      "text/html": "<div>\n<style scoped>\n    .dataframe tbody tr th:only-of-type {\n        vertical-align: middle;\n    }\n\n    .dataframe tbody tr th {\n        vertical-align: top;\n    }\n\n    .dataframe thead th {\n        text-align: right;\n    }\n</style>\n<table border=\"1\" class=\"dataframe\">\n  <thead>\n    <tr style=\"text-align: right;\">\n      <th></th>\n      <th>normal_X</th>\n      <th>early_neoplasia_X</th>\n      <th>cancer_X</th>\n      <th>normal_std</th>\n      <th>early_neoplasia_std</th>\n      <th>cancer_std</th>\n      <th>normal-neoplasia_hands_t</th>\n      <th>normal-neoplasia_t</th>\n      <th>normal-neoplasia_p</th>\n      <th>neoplasia-cancer_t</th>\n      <th>neoplasia-cancer_p</th>\n    </tr>\n  </thead>\n  <tbody>\n    <tr>\n      <th>LOC643837</th>\n      <td>2.681277</td>\n      <td>2.510894</td>\n      <td>2.186060</td>\n      <td>1.508486</td>\n      <td>1.469398</td>\n      <td>1.257218</td>\n      <td>0.396372</td>\n      <td>0.400289</td>\n      <td>0.690766</td>\n      <td>0.824849</td>\n      <td>0.413735</td>\n    </tr>\n    <tr>\n      <th>LOC100130417</th>\n      <td>4.368497</td>\n      <td>8.721781</td>\n      <td>8.190456</td>\n      <td>3.045372</td>\n      <td>3.555897</td>\n      <td>4.484989</td>\n      <td>-4.555281</td>\n      <td>-4.608766</td>\n      <td>0.000032</td>\n      <td>0.452236</td>\n      <td>0.653429</td>\n    </tr>\n    <tr>\n      <th>SAMD11</th>\n      <td>15.159566</td>\n      <td>18.531325</td>\n      <td>23.692614</td>\n      <td>6.829965</td>\n      <td>5.269496</td>\n      <td>12.648352</td>\n      <td>-1.914825</td>\n      <td>-1.929277</td>\n      <td>0.060273</td>\n      <td>-1.817266</td>\n      <td>0.079556</td>\n    </tr>\n  </tbody>\n</table>\n</div>"
     },
     "metadata": {},
     "execution_count": 4
    }
   ],
   "source": [
    "# Посчитаем функцией ttest_ind t-критерий Стюдента и p-value (при построении графика указывается полученное\n",
    "# t-значение и количество элементов 24-1=23)\n",
    "from scipy.stats import ttest_ind\n",
    "compare['normal-neoplasia_t'] = ttest_ind(np.array(data[data['Diagnosis'].isin(['normal'])].drop(['Patient_id','Diagnosis'],axis=1)),\n",
    "         np.array(data[data['Diagnosis'].isin(['early neoplasia'])].drop(['Patient_id','Diagnosis'],axis=1)),\n",
    "                            equal_var = False)[0]\n",
    "compare['normal-neoplasia_p'] = ttest_ind(np.array(data[data['Diagnosis'].isin(['normal'])].drop(['Patient_id','Diagnosis'],axis=1)),\n",
    "         np.array(data[data['Diagnosis'].isin(['early neoplasia'])].drop(['Patient_id','Diagnosis'],axis=1)), \n",
    "                               equal_var = False)[1]\n",
    "\n",
    "compare['neoplasia-cancer_t'] = ttest_ind(np.array(data[data['Diagnosis'].isin(['early neoplasia'])].drop(['Patient_id','Diagnosis'],axis=1)),\n",
    "         np.array(data[data['Diagnosis'].isin(['cancer'])].drop(['Patient_id','Diagnosis'],axis=1)),\n",
    "                            equal_var = False)[0]\n",
    "compare['neoplasia-cancer_p'] = ttest_ind(np.array(data[data['Diagnosis'].isin(['early neoplasia'])].drop(['Patient_id','Diagnosis'],axis=1)),\n",
    "         np.array(data[data['Diagnosis'].isin(['cancer'])].drop(['Patient_id','Diagnosis'],axis=1)), \n",
    "                               equal_var = False)[1]\n",
    "compare.head(3)"
   ]
  },
  {
   "cell_type": "code",
   "execution_count": 5,
   "metadata": {},
   "outputs": [
    {
     "output_type": "stream",
     "name": "stdout",
     "text": [
      "Количество статистически значимых генов первой группы: 1575\nКоличество статистически значимых генов второй группы: 3490\n"
     ]
    }
   ],
   "source": [
    "answer_11 = compare[compare['normal-neoplasia_p'] < 0.05].shape[0]\n",
    "answer_12 = compare[compare['neoplasia-cancer_p'] < 0.05].shape[0]\n",
    "print('Количество статистически значимых генов первой группы:',answer_11)\n",
    "print('Количество статистически значимых генов второй группы:',answer_12)"
   ]
  },
  {
   "cell_type": "code",
   "execution_count": 6,
   "metadata": {},
   "outputs": [],
   "source": [
    "write_answer_to_file(answer_11, 'answers/4.1. Statistics. Genome_task_answer_11.txt')\n",
    "write_answer_to_file(answer_12,'answers/4.1. Statistics. Genome_task_answer_12.txt')"
   ]
  },
  {
   "cell_type": "markdown",
   "metadata": {},
   "source": [
    "### Часть 2: поправка методом Холма\n",
    "\n",
    "Для этой части задания вам понадобится модуль multitest из statsmodels.\n",
    "\n",
    "`import statsmodels.stats.multitest as smm`\n",
    "\n",
    "В этой части задания нужно будет применить поправку Холма для получившихся двух наборов достигаемых уровней значимости из предыдущей части. Обратите внимание, что поскольку вы будете делать поправку для каждого из двух наборов p-value отдельно, то проблема, связанная с множественной проверкой останется.\n",
    "\n",
    "Для того, чтобы ее устранить, достаточно воспользоваться поправкой Бонферрони, то есть использовать уровень значимости 0.05 / 2 вместо 0.05 для дальнейшего уточнения значений p-value c помощью метода Холма.\n",
    "\n",
    "В качестве ответа к этому заданию требуется ввести количество значимых отличий в каждой группе после того, как произведена коррекция Холма-Бонферрони. Причем это число нужно ввести с учетом практической значимости: посчитайте для каждого значимого изменения fold change и выпишите в ответ число таких значимых изменений, абсолютное значение fold change которых больше, чем 1.5.\n",
    "\n",
    "**Обратите внимание, что**\n",
    "\n",
    "применять поправку на множественную проверку нужно ко всем значениям достигаемых уровней значимости, а не только для тех, которые меньше значения уровня доверия.\n",
    "при использовании поправки на уровне значимости 0.025 меняются значения достигаемого уровня значимости, но не меняется значение уровня доверия (то есть для отбора значимых изменений скорректированные значения уровня значимости нужно сравнивать с порогом 0.025, а не 0.05)!\n",
    "\n"
   ]
  },
  {
   "cell_type": "code",
   "execution_count": 7,
   "metadata": {},
   "outputs": [],
   "source": [
    "import statsmodels.stats.multitest as smm\n",
    "def fold_change(x):\n",
    "    T=x[1]\n",
    "    C=x[0]\n",
    "    if T > C:\n",
    "        return (T/C)\n",
    "    else:\n",
    "        return (-C/T)"
   ]
  },
  {
   "cell_type": "code",
   "execution_count": 8,
   "metadata": {},
   "outputs": [
    {
     "output_type": "execute_result",
     "data": {
      "text/plain": [
       "               normal_X  early_neoplasia_X   cancer_X  normal_neoplasia_fc  \\\n",
       "LOC643837      2.681277           2.510894   2.186060            -1.067858   \n",
       "LOC100130417   4.368497           8.721781   8.190456             1.996517   \n",
       "SAMD11        15.159566          18.531325  23.692614             1.222418   \n",
       "\n",
       "              neoplasia_cancer_fc  \n",
       "LOC643837               -1.148593  \n",
       "LOC100130417            -1.064871  \n",
       "SAMD11                   1.278517  "
      ],
      "text/html": "<div>\n<style scoped>\n    .dataframe tbody tr th:only-of-type {\n        vertical-align: middle;\n    }\n\n    .dataframe tbody tr th {\n        vertical-align: top;\n    }\n\n    .dataframe thead th {\n        text-align: right;\n    }\n</style>\n<table border=\"1\" class=\"dataframe\">\n  <thead>\n    <tr style=\"text-align: right;\">\n      <th></th>\n      <th>normal_X</th>\n      <th>early_neoplasia_X</th>\n      <th>cancer_X</th>\n      <th>normal_neoplasia_fc</th>\n      <th>neoplasia_cancer_fc</th>\n    </tr>\n  </thead>\n  <tbody>\n    <tr>\n      <th>LOC643837</th>\n      <td>2.681277</td>\n      <td>2.510894</td>\n      <td>2.186060</td>\n      <td>-1.067858</td>\n      <td>-1.148593</td>\n    </tr>\n    <tr>\n      <th>LOC100130417</th>\n      <td>4.368497</td>\n      <td>8.721781</td>\n      <td>8.190456</td>\n      <td>1.996517</td>\n      <td>-1.064871</td>\n    </tr>\n    <tr>\n      <th>SAMD11</th>\n      <td>15.159566</td>\n      <td>18.531325</td>\n      <td>23.692614</td>\n      <td>1.222418</td>\n      <td>1.278517</td>\n    </tr>\n  </tbody>\n</table>\n</div>"
     },
     "metadata": {},
     "execution_count": 8
    }
   ],
   "source": [
    "compare['normal_neoplasia_fc'] = compare.loc[:,['normal_X','early_neoplasia_X']].apply(fold_change, axis=1)\n",
    "compare['neoplasia_cancer_fc'] = compare.loc[:,['early_neoplasia_X','cancer_X']].apply(fold_change, axis=1)\n",
    "compare[['normal_X','early_neoplasia_X','cancer_X','normal_neoplasia_fc','neoplasia_cancer_fc']].head(3)"
   ]
  },
  {
   "cell_type": "code",
   "execution_count": 9,
   "metadata": {},
   "outputs": [
    {
     "output_type": "execute_result",
     "data": {
      "text/plain": [
       "               normal_X  early_neoplasia_X   cancer_X  normal_neoplasia_fc  \\\n",
       "LOC643837      2.681277           2.510894   2.186060            -1.067858   \n",
       "LOC100130417   4.368497           8.721781   8.190456             1.996517   \n",
       "SAMD11        15.159566          18.531325  23.692614             1.222418   \n",
       "\n",
       "              neoplasia_cancer_fc  normal_neoplasia_fc_smm  \\\n",
       "LOC643837               -1.148593                    False   \n",
       "LOC100130417            -1.064871                    False   \n",
       "SAMD11                   1.278517                    False   \n",
       "\n",
       "              neoplasia_cancer_fc_smm  \n",
       "LOC643837                       False  \n",
       "LOC100130417                    False  \n",
       "SAMD11                          False  "
      ],
      "text/html": "<div>\n<style scoped>\n    .dataframe tbody tr th:only-of-type {\n        vertical-align: middle;\n    }\n\n    .dataframe tbody tr th {\n        vertical-align: top;\n    }\n\n    .dataframe thead th {\n        text-align: right;\n    }\n</style>\n<table border=\"1\" class=\"dataframe\">\n  <thead>\n    <tr style=\"text-align: right;\">\n      <th></th>\n      <th>normal_X</th>\n      <th>early_neoplasia_X</th>\n      <th>cancer_X</th>\n      <th>normal_neoplasia_fc</th>\n      <th>neoplasia_cancer_fc</th>\n      <th>normal_neoplasia_fc_smm</th>\n      <th>neoplasia_cancer_fc_smm</th>\n    </tr>\n  </thead>\n  <tbody>\n    <tr>\n      <th>LOC643837</th>\n      <td>2.681277</td>\n      <td>2.510894</td>\n      <td>2.186060</td>\n      <td>-1.067858</td>\n      <td>-1.148593</td>\n      <td>False</td>\n      <td>False</td>\n    </tr>\n    <tr>\n      <th>LOC100130417</th>\n      <td>4.368497</td>\n      <td>8.721781</td>\n      <td>8.190456</td>\n      <td>1.996517</td>\n      <td>-1.064871</td>\n      <td>False</td>\n      <td>False</td>\n    </tr>\n    <tr>\n      <th>SAMD11</th>\n      <td>15.159566</td>\n      <td>18.531325</td>\n      <td>23.692614</td>\n      <td>1.222418</td>\n      <td>1.278517</td>\n      <td>False</td>\n      <td>False</td>\n    </tr>\n  </tbody>\n</table>\n</div>"
     },
     "metadata": {},
     "execution_count": 9
    }
   ],
   "source": [
    "import statsmodels.stats.multitest as smm\n",
    "compare['normal_neoplasia_fc_smm'] = smm.multipletests(compare['normal-neoplasia_p'], alpha=0.025, method='holm')[0]\n",
    "compare['neoplasia_cancer_fc_smm'] = smm.multipletests(compare['neoplasia-cancer_p'], alpha=0.025, method='holm')[0]\n",
    "compare[['normal_X','early_neoplasia_X','cancer_X','normal_neoplasia_fc',\n",
    "         'neoplasia_cancer_fc','normal_neoplasia_fc_smm','neoplasia_cancer_fc_smm']].head(3)"
   ]
  },
  {
   "cell_type": "code",
   "execution_count": 10,
   "metadata": {},
   "outputs": [
    {
     "output_type": "stream",
     "name": "stdout",
     "text": [
      "Количество значимых отличий в первой группе после коррекции Холма-Бонферрони: 2\nКоличество значимых отличий во второй группе после коррекции Холма-Бонферрони: 77\n"
     ]
    }
   ],
   "source": [
    "answer_21 = compare[(compare['normal_neoplasia_fc_smm'] == True) & (abs(compare['normal_neoplasia_fc']) > 1.5)].shape[0]\n",
    "answer_22 = compare[(compare['neoplasia_cancer_fc_smm'] == True) & (abs(compare['neoplasia_cancer_fc']) > 1.5)].shape[0]\n",
    "print('Количество значимых отличий в первой группе после коррекции Холма-Бонферрони:',answer_21)\n",
    "print('Количество значимых отличий во второй группе после коррекции Холма-Бонферрони:', answer_22)"
   ]
  },
  {
   "cell_type": "code",
   "execution_count": 11,
   "metadata": {},
   "outputs": [],
   "source": [
    "write_answer_to_file(answer_21, 'answers/4.1. Statistics. Genome_task_answer_21.txt')\n",
    "write_answer_to_file(answer_22,'answers/4.1. Statistics. Genome_task_answer_22.txt')"
   ]
  },
  {
   "cell_type": "markdown",
   "metadata": {},
   "source": [
    "### Часть 3: поправка методом Бенджамини-Хохберга\n",
    "\n",
    "Данная часть задания аналогична второй части за исключением того, что нужно будет использовать метод Бенджамини-Хохберга.\n",
    "\n",
    "Обратите внимание, что методы коррекции, которые контролируют FDR, допускает больше ошибок первого рода и имеют большую мощность, чем методы, контролирующие FWER. Большая мощность означает, что эти методы будут совершать меньше ошибок второго рода (то есть будут лучше улавливать отклонения от H0, когда они есть, и будут чаще отклонять H0, когда отличий нет).\n",
    "\n",
    "В качестве ответа к этому заданию требуется ввести количество значимых отличий в каждой группе после того, как произведена коррекция Бенджамини-Хохберга, причем так же, как и во второй части, считать только такие отличия, у которых abs(fold change) > 1.5.\n",
    "\n"
   ]
  },
  {
   "cell_type": "code",
   "execution_count": 12,
   "metadata": {},
   "outputs": [
    {
     "output_type": "execute_result",
     "data": {
      "text/plain": [
       "               normal_X  early_neoplasia_X   cancer_X  normal_neoplasia_fc  \\\n",
       "LOC643837      2.681277           2.510894   2.186060            -1.067858   \n",
       "LOC100130417   4.368497           8.721781   8.190456             1.996517   \n",
       "SAMD11        15.159566          18.531325  23.692614             1.222418   \n",
       "\n",
       "              neoplasia_cancer_fc  normal_neoplasia_fc_fdr_bh  \\\n",
       "LOC643837               -1.148593                       False   \n",
       "LOC100130417            -1.064871                       False   \n",
       "SAMD11                   1.278517                       False   \n",
       "\n",
       "              neoplasia_cancer_fc_fdr_bh  \n",
       "LOC643837                          False  \n",
       "LOC100130417                       False  \n",
       "SAMD11                             False  "
      ],
      "text/html": "<div>\n<style scoped>\n    .dataframe tbody tr th:only-of-type {\n        vertical-align: middle;\n    }\n\n    .dataframe tbody tr th {\n        vertical-align: top;\n    }\n\n    .dataframe thead th {\n        text-align: right;\n    }\n</style>\n<table border=\"1\" class=\"dataframe\">\n  <thead>\n    <tr style=\"text-align: right;\">\n      <th></th>\n      <th>normal_X</th>\n      <th>early_neoplasia_X</th>\n      <th>cancer_X</th>\n      <th>normal_neoplasia_fc</th>\n      <th>neoplasia_cancer_fc</th>\n      <th>normal_neoplasia_fc_fdr_bh</th>\n      <th>neoplasia_cancer_fc_fdr_bh</th>\n    </tr>\n  </thead>\n  <tbody>\n    <tr>\n      <th>LOC643837</th>\n      <td>2.681277</td>\n      <td>2.510894</td>\n      <td>2.186060</td>\n      <td>-1.067858</td>\n      <td>-1.148593</td>\n      <td>False</td>\n      <td>False</td>\n    </tr>\n    <tr>\n      <th>LOC100130417</th>\n      <td>4.368497</td>\n      <td>8.721781</td>\n      <td>8.190456</td>\n      <td>1.996517</td>\n      <td>-1.064871</td>\n      <td>False</td>\n      <td>False</td>\n    </tr>\n    <tr>\n      <th>SAMD11</th>\n      <td>15.159566</td>\n      <td>18.531325</td>\n      <td>23.692614</td>\n      <td>1.222418</td>\n      <td>1.278517</td>\n      <td>False</td>\n      <td>False</td>\n    </tr>\n  </tbody>\n</table>\n</div>"
     },
     "metadata": {},
     "execution_count": 12
    }
   ],
   "source": [
    "compare['normal_neoplasia_fc_fdr_bh'] = smm.multipletests(compare['normal-neoplasia_p'], alpha=0.025, method='fdr_bh')[0]\n",
    "compare['neoplasia_cancer_fc_fdr_bh'] = smm.multipletests(compare['neoplasia-cancer_p'], alpha=0.025, method='fdr_bh')[0]\n",
    "compare[['normal_X','early_neoplasia_X','cancer_X','normal_neoplasia_fc',\n",
    "         'neoplasia_cancer_fc','normal_neoplasia_fc_fdr_bh','neoplasia_cancer_fc_fdr_bh']].head(3)"
   ]
  },
  {
   "cell_type": "code",
   "execution_count": 13,
   "metadata": {},
   "outputs": [
    {
     "output_type": "stream",
     "name": "stdout",
     "text": [
      "Количество значимых отличий в первой группе после коррекции Холма-Бонферрони: 4\nКоличество значимых отличий во второй группе после коррекции Холма-Бонферрони: 524\n"
     ]
    }
   ],
   "source": [
    "answer_31 = compare[(compare['normal_neoplasia_fc_fdr_bh'] == True) & (abs(compare['normal_neoplasia_fc']) > 1.5)].shape[0]\n",
    "answer_32 = compare[(compare['neoplasia_cancer_fc_fdr_bh'] == True) & (abs(compare['neoplasia_cancer_fc']) > 1.5)].shape[0]\n",
    "print('Количество значимых отличий в первой группе после коррекции Холма-Бонферрони:', answer_31)\n",
    "print('Количество значимых отличий во второй группе после коррекции Холма-Бонферрони:', answer_32)"
   ]
  },
  {
   "cell_type": "code",
   "execution_count": 14,
   "metadata": {},
   "outputs": [],
   "source": [
    "write_answer_to_file(answer_31, 'answers/4.1. Statistics. Genome_task_answer_31.txt')\n",
    "write_answer_to_file(answer_32,'answers/4.1. Statistics. Genome_task_answer_32.txt')"
   ]
  },
  {
   "cell_type": "code",
   "execution_count": null,
   "metadata": {},
   "outputs": [],
   "source": []
  }
 ],
 "metadata": {
  "kernelspec": {
   "display_name": "Python 3",
   "language": "python",
   "name": "python3"
  },
  "language_info": {
   "codemirror_mode": {
    "name": "ipython",
    "version": 3
   },
   "file_extension": ".py",
   "mimetype": "text/x-python",
   "name": "python",
   "nbconvert_exporter": "python",
   "pygments_lexer": "ipython3",
   "version": "3.6.8-final"
  }
 },
 "nbformat": 4,
 "nbformat_minor": 4
}